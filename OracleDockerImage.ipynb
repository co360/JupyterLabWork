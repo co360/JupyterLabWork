{
 "cells": [
  {
   "cell_type": "markdown",
   "metadata": {},
   "source": [
    "## Build Docker Oracle Database Base Image\n",
    "The following notebook goes through the process of building an Oracle Docker image of the Oracle Database. If you are just wanting to get the Oracle Database running inside of Docker I strongly suggest that you use the docker files and guides in the [Oracle Github repository](https://github.com/oracle/docker-images/tree/master/OracleDatabase/SingleInstance). The approach documented below is very much for someone who is interested in a high level of control over the various steps in the installation and configuration of the Oracle Database or simply to understand how the various teps work. \n",
    "\n",
    "#### Prerequisites\n",
    "The process documented below uses a Jupyter Notebook (iPython). The reason I use this approach and not straight python is that it's easy to change and is self documenting. It only takes a few minutes to set up the environment. I've included a requirements file which makes it very simple to install the needed Python libraries. I go through the process of setting up a Jupyter environment for Mac and Linux [here](www.dominicgiles.com).\n",
    "\n",
    "#### Running the notebook\n",
    "Typically the only modification that the user will need to do is to modifythe values in the [\"Parameters\"](#Parameters) section. The code can then be run by pressing \"Command SHIFT\" on a Mac or \"Ctrl Shift\" on Windows. Or by pressing the \"Play\" icon in the tool bar. It is also possible to run all of the cells automatically, you can do this from \"Run\" menu item. \n",
    "\n"
   ]
  },
  {
   "cell_type": "code",
   "execution_count": null,
   "metadata": {},
   "outputs": [],
   "source": [
    "import docker\n",
    "import os\n",
    "import tarfile\n",
    "from prettytable import PrettyTable\n",
    "from IPython.display import HTML, display, Markdown\n",
    "import humanize\n",
    "import re\n",
    "from ipynb.fs.full.OracleDockerDatabaseFunctions import list_images,list_containers,copy_to,create_and_run_script,containter_exec,copy_string_to_file,containter_root_exec\n",
    "\n",
    "client = docker.from_env(timeout=600)"
   ]
  },
  {
   "cell_type": "markdown",
   "metadata": {},
   "source": [
    "### Parameters\n",
    "This section details the parameters used to define the docker image you'll end up creating. It's almost certainly the case that you'll need to change the parameters in the first section. The parameters in the second section can be changed if there's something i.e. hostname that you want to change"
   ]
  },
  {
   "cell_type": "code",
   "execution_count": null,
   "metadata": {},
   "outputs": [],
   "source": [
    "# You'll need to to change the following two parameters to reflect your environment\n",
    "host_orabase = '/Users/dgiles/oradata18c' # The directory on the host where you'll stage the persisted datafiles\n",
    "host_install_dir = '/Users/dgiles/Downloads/oracle18_software' # The directory on the host where the downloaded Oracle Database zip file is.\n",
    "# You can change any of the following parameters but it's not necssary\n",
    "p_host_name = 'oracle_db'\n",
    "oracle_version = '18.0.0'\n",
    "oracle_base = '/u01/app/oracle'\n",
    "oracle_home = f'{oracle_base}/product/{oracle_version}/dbhome_1'\n",
    "db_name = 'ORCL'\n",
    "oracle_sid= db_name\n",
    "path=f'{oracle_home}/bin:$PATH'\n",
    "tns_admin=f'{oracle_base}/oradata/dbconfig'\n",
    "container_oradata = '/u01/app/oracle/oradata'\n",
    "r_area = f'{oracle_base}/oradata/recovery_area'\n",
    "a_area = f'{oracle_base}/admin/ORCL/adump'\n",
    "container_install_dir = '/u01/install_files'\n",
    "path = f'{oracle_home}/bin:/usr/local/sbin:/usr/local/bin:/usr/sbin:/usr/bin:/sbin:/bin'"
   ]
  },
  {
   "cell_type": "markdown",
   "metadata": {},
   "source": [
    "Attempt to create the needed directories on the host and print warnings if needed"
   ]
  },
  {
   "cell_type": "code",
   "execution_count": null,
   "metadata": {},
   "outputs": [],
   "source": [
    "try:\n",
    "    os.makedirs(host_orabase, exist_ok=True)\n",
    "    os.makedirs(host_install_dir, exist_ok=True)\n",
    "except:\n",
    "   display(Markdown(f'**WARNING** : Unable to create directories {host_orabase} and {host_install_dir}'))\n",
    "    \n",
    "files = os.listdir(host_install_dir)\n",
    "found_similar:bool = False\n",
    "for file in files:\n",
    "    if file.startswith('LINUX.X64'):\n",
    "        found_similar = True\n",
    "        break\n",
    "if not found_similar:\n",
    "    display(Markdown(f\"**WARNING** : Are you sure that you've downloaded the needed Oracle executable to the `{host_install_dir}` directory\"))\n",
    "\n",
    "\n"
   ]
  },
  {
   "cell_type": "markdown",
   "metadata": {},
   "source": [
    "The first step in creating a usable image is to create a docker file. This details what the docker container will be based on and what needs to be installed. It will use the parameters defined above. It does require network connectivity for this to work as docker will pull down the required images and RPMs."
   ]
  },
  {
   "cell_type": "code",
   "execution_count": null,
   "metadata": {},
   "outputs": [],
   "source": [
    "script = f'''\n",
    "FROM oraclelinux:7-slim\n",
    "\n",
    "ENV ORACLE_BASE={oracle_base} \\\n",
    "    ORACLE_HOME={oracle_home} \\\n",
    "    ORACLE_SID={oracle_sid} \\\n",
    "    PATH={oracle_home}/bin:$PATH\n",
    "    \n",
    "RUN yum -y install unzip\n",
    "RUN yum -y install oracle-database-preinstall-18c\n",
    "RUN yum -y install openssl\n",
    "    \n",
    "# RUN groupadd -g 500 dba\n",
    "# RUN useradd -ms /bin/bash -g dba oracle\n",
    "\n",
    "RUN mkdir -p $ORACLE_BASE\n",
    "RUN mkdir -p $ORACLE_HOME\n",
    "RUN mkdir -p {container_install_dir}\n",
    "\n",
    "RUN chown -R oracle:dba {oracle_base}\n",
    "RUN chown -R oracle:dba {oracle_home}\n",
    "RUN chown -R oracle:dba {container_install_dir}\n",
    "\n",
    "USER oracle\n",
    "WORKDIR /home/oracle\n",
    "\n",
    "VOLUME [\"$ORACLE_BASE/oradata\"]\n",
    "VOLUME [\"{container_install_dir}\"]\n",
    "EXPOSE 1521 8080 5500\n",
    "'''\n",
    "\n",
    "with open('Dockerfile','w') as f:\n",
    "    f.write(script)\n"
   ]
  },
  {
   "cell_type": "markdown",
   "metadata": {},
   "source": [
    "And now we can create the image. The period of time for this operation to complete will depend on what docker images have already been downloaded/cached and your network speed."
   ]
  },
  {
   "cell_type": "code",
   "execution_count": null,
   "metadata": {},
   "outputs": [],
   "source": [
    "image, output = client.images.build(path=os.getcwd(),dockerfile='Dockerfile', tag=f\"linux_for_db{oracle_version}\",rm=\"True\",nocache=\"False\")\n",
    "for out in output:\n",
    "    print(out)"
   ]
  },
  {
   "cell_type": "markdown",
   "metadata": {},
   "source": [
    "Once the image has been created we can start a container based on it."
   ]
  },
  {
   "cell_type": "code",
   "execution_count": null,
   "metadata": {},
   "outputs": [],
   "source": [
    "db_container = client.containers.create(image.short_id,\n",
    "                                       command=\"/bin/bash\",\n",
    "                                       hostname=p_host_name,\n",
    "                                       tty=True,\n",
    "                                       stdin_open=True,\n",
    "                                       auto_remove=False,\n",
    "                                       name=p_host_name,\n",
    "                                       shm_size='3G',\n",
    "                                       # network_mode='host',\n",
    "                                       ports={1521:1522,5500:5501},\n",
    "                                       volumes={host_orabase: {'bind': container_oradata, 'mode': 'rw'}, host_install_dir: {'bind': container_install_dir, 'mode': 'rw'}},\n",
    "                                       environment={'PATH':path,'ORACLE_SID': db_name, 'ORACLE_BASE': oracle_base,'TNS_ADMIN': tns_admin, 'ORACLE_HOME':oracle_home}\n",
    "                                       )\n",
    "\n",
    "#                                        volumes={host_orabase: {'bind': oracle_base, 'mode': 'rw'}, host_install_dir: {'bind': container_install_dir, 'mode': 'rw'}},\n",
    "\n",
    "db_container.start()\n",
    "p_ip_adress = db_container.attrs['NetworkSettings']['IPAddress']"
   ]
  },
  {
   "cell_type": "markdown",
   "metadata": {},
   "source": [
    "And then created the needed directory structure within it."
   ]
  },
  {
   "cell_type": "code",
   "execution_count": null,
   "metadata": {},
   "outputs": [],
   "source": [
    "containter_exec(db_container, f'mkdir -p {container_oradata}/{db_name}')\n",
    "containter_exec(db_container, f'mkdir -p {tns_admin}')\n",
    "containter_exec(db_container, f'mkdir -p {r_area}/{db_name}')\n",
    "containter_exec(db_container, f'mkdir -p {a_area}')\n",
    "containter_exec(db_container, f'mkdir -p {oracle_base}/oraInventory')\n",
    "containter_exec(db_container, f'mkdir -p {oracle_home}')\n",
    "containter_root_exec(db_container,'usermod -a -G dba oracle')"
   ]
  },
  {
   "cell_type": "markdown",
   "metadata": {},
   "source": [
    "### Unzip Oracle Database software and validate\n",
    "We now need to unzip the Oracle software which should be located in the `host_install_dir` variable. This is unzipped within the container not the host. **NOTE**: I don't stream the output because it's realtively large. It should take 2-5 minutes."
   ]
  },
  {
   "cell_type": "code",
   "execution_count": null,
   "metadata": {},
   "outputs": [],
   "source": [
    "files = [f for f in os.listdir(host_install_dir) if f.endswith('.zip')]\n",
    "    \n",
    "if files == 0:\n",
    "    display(Markdown(f\"**There doesn't appear to be any zip files in the {host_install_dir} directory. This should contain the oracle database for Linux 64bit in its orginal zipped format**\"))\n",
    "else:\n",
    "    display(Markdown(f'Unzipping `{files[0]}`'))\n",
    "    containter_exec(db_container, f'unzip -o {container_install_dir}/{files[0]} -d {oracle_home}', show_output=False, stream_val=False)\n",
    "    \n"
   ]
  },
  {
   "cell_type": "markdown",
   "metadata": {},
   "source": [
    "And now display the contents of the Oracle Home"
   ]
  },
  {
   "cell_type": "code",
   "execution_count": null,
   "metadata": {},
   "outputs": [],
   "source": [
    "display(Markdown('Directory Contents'))\n",
    "containter_exec(db_container, f'ls -l {oracle_home}')"
   ]
  },
  {
   "cell_type": "markdown",
   "metadata": {},
   "source": [
    "The next step is to create an Oracle Installer response file to reflect the paremeters we've defined. We're only going to perform a software only install."
   ]
  },
  {
   "cell_type": "code",
   "execution_count": null,
   "metadata": {},
   "outputs": [],
   "source": [
    "script = f'''oracle.install.responseFileVersion=/oracle/install/rspfmt_dbinstall_response_schema_v18.0.0\n",
    "oracle.install.option=INSTALL_DB_SWONLY\n",
    "UNIX_GROUP_NAME=dba\n",
    "INVENTORY_LOCATION={oracle_base}/oraInventory\n",
    "ORACLE_BASE={oracle_base}\n",
    "ORACLE_HOME={oracle_home}\n",
    "oracle.install.db.InstallEdition=EE\n",
    "oracle.install.db.OSDBA_GROUP=dba\n",
    "oracle.install.db.OSBACKUPDBA_GROUP=dba\n",
    "oracle.install.db.OSDGDBA_GROUP=dba\n",
    "oracle.install.db.OSKMDBA_GROUP=dba\n",
    "oracle.install.db.OSRACDBA_GROUP=dba\n",
    "'''\n",
    "\n",
    "copy_string_to_file(script, f'{oracle_home}/db_install.rsp', db_container)"
   ]
  },
  {
   "cell_type": "markdown",
   "metadata": {},
   "source": [
    "### Run the Oracle Installer\n",
    "Now we can run the Oracle Installer in silent mode with a response file we've just created."
   ]
  },
  {
   "cell_type": "code",
   "execution_count": null,
   "metadata": {},
   "outputs": [],
   "source": [
    "containter_exec(db_container, f'{oracle_home}/runInstaller -silent -force -waitforcompletion -responsefile {oracle_home}/db_install.rsp -ignorePrereqFailure')"
   ]
  },
  {
   "cell_type": "code",
   "execution_count": null,
   "metadata": {},
   "outputs": [],
   "source": [
    "containter_root_exec(db_container,f'/bin/bash {oracle_base}/oraInventory/orainstRoot.sh')\n",
    "containter_root_exec(db_container,f'/bin/bash {oracle_home}/root.sh')"
   ]
  },
  {
   "cell_type": "markdown",
   "metadata": {},
   "source": [
    "### Commit the container to create an image\n",
    "And finally we can commit the container creating an image for future use."
   ]
  },
  {
   "cell_type": "code",
   "execution_count": null,
   "metadata": {},
   "outputs": [],
   "source": [
    "repository_name = 'dominicgiles'\n",
    "db_container.commit(repository=repository_name,tag=f'db{oracle_version}')"
   ]
  },
  {
   "cell_type": "markdown",
   "metadata": {},
   "source": [
    "## Tidy Up\n",
    "The following code is included to enable you to quickly drop the container and potentially the immage.\n"
   ]
  },
  {
   "cell_type": "code",
   "execution_count": null,
   "metadata": {},
   "outputs": [],
   "source": [
    "db_container.stop()\n",
    "db_container.remove()"
   ]
  },
  {
   "cell_type": "code",
   "execution_count": null,
   "metadata": {},
   "outputs": [],
   "source": [
    "list_containers(client)"
   ]
  },
  {
   "cell_type": "code",
   "execution_count": null,
   "metadata": {},
   "outputs": [],
   "source": [
    "list_images(client)"
   ]
  },
  {
   "cell_type": "code",
   "execution_count": null,
   "metadata": {},
   "outputs": [],
   "source": [
    "#client.images.remove(image.id)\n",
    "\n",
    "#list_images()"
   ]
  }
 ],
 "metadata": {
  "kernelspec": {
   "display_name": "Python 3",
   "language": "python",
   "name": "python3"
  },
  "language_info": {
   "codemirror_mode": {
    "name": "ipython",
    "version": 3
   },
   "file_extension": ".py",
   "mimetype": "text/x-python",
   "name": "python",
   "nbconvert_exporter": "python",
   "pygments_lexer": "ipython3",
   "version": "3.6.4"
  }
 },
 "nbformat": 4,
 "nbformat_minor": 2
}
