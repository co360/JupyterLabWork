{
 "cells": [
  {
   "cell_type": "markdown",
   "metadata": {},
   "source": [
    "## Build Docker Oracle Database Base Image\n",
    "The following notebook goes through the process of building an Oracle Docker image of the Oracle Database. If you are just wanting to get the Oracle Database running inside of Docker I strongly suggest that you use the docker files and guides in the [Oracle Github repository](https://github.com/oracle/docker-images/tree/master/OracleDatabase/SingleInstance). The approach documented below is very much for someone who is interested in a high level of control over the various steps in the installation and configuration of the Oracle Database or simply to understand how the various teps work. \n",
    "\n",
    "#### Prerequisites\n",
    "The process documented below uses a Jupyter Notebook (iPython). The reason I use this approach and not straight python is that it's easy to change and is self documenting. It only takes a few minutes to set up the environment. I've included a requirements file which makes it very simple to install the needed Python libraries. I go through the process of setting up a Jupyter environment for Mac and Linux [here](www.dominicgiles.com).\n",
    "\n",
    "#### Running the notebook\n",
    "Running the notebook simply involves modifying the values in the [\"Parameters\"](#Parameters) section.\n",
    "\n"
   ]
  },
  {
   "cell_type": "code",
   "execution_count": 5,
   "metadata": {},
   "outputs": [],
   "source": [
    "import docker\n",
    "import os\n",
    "import tarfile\n",
    "from prettytable import PrettyTable\n",
    "from IPython.display import HTML, display, Markdown\n",
    "import humanize\n",
    "import re\n",
    "from ipynb.fs.full.OracleDockerDatabaseFunctions import list_images,list_containers,copy_to,create_and_run_script,containter_exec,containter_root_exec\n",
    "\n",
    "client = docker.from_env(timeout=600)"
   ]
  },
  {
   "cell_type": "markdown",
   "metadata": {},
   "source": [
    "### Parameters\n",
    "This section details the parameters used to define the docker image you'll end up creating. It's almost certainly the case that you'll need to change the parameters in the first section. The parameters in the second section can be changed if there's something i.e. hostname that you want to change"
   ]
  },
  {
   "cell_type": "code",
   "execution_count": 6,
   "metadata": {},
   "outputs": [],
   "source": [
    "# You'll need to to change the following two parameters to reflect your environment\n",
    "host_orabase = '/Users/dgiles/oradata2' # The directory on the host where you'll stage the persisted datafiles\n",
    "host_install_dir = '/Users/dgiles/Downloads/oracle18_software' # The directory on the host where the downloaded Oracle Database zip file is.\n",
    "# You can change any of the following parameters but it's not necssary\n",
    "p_host_name = 'oracle_db'\n",
    "oracle_version = '18.0.0'\n",
    "oracle_base = '/u01/app/oracle'\n",
    "oracle_home = f'{oracle_base}/product/{oracle_version}/dbhome_1'\n",
    "db_name = 'ORCL'\n",
    "oracle_sid= db_name\n",
    "path=f'{oracle_home}/bin:$PATH'\n",
    "tns_admin=f'{oracle_base}/oradata/dbconfig'\n",
    "container_oradata = '/u01/app/oracle/oradata'\n",
    "r_area = f'{oracle_base}/oradata/recovery_area'\n",
    "a_area = f'{oracle_base}/admin/ORCL/adump'\n",
    "container_install_dir = '/u01/install_files'\n",
    "path = f'{oracle_home}/bin:/usr/local/sbin:/usr/local/bin:/usr/sbin:/usr/bin:/sbin:/bin'"
   ]
  },
  {
   "cell_type": "code",
   "execution_count": 7,
   "metadata": {},
   "outputs": [],
   "source": [
    "script = f'''\n",
    "FROM oraclelinux:7-slim\n",
    "\n",
    "ENV ORACLE_BASE={oracle_base} \\\n",
    "    ORACLE_HOME={oracle_home} \\\n",
    "    ORACLE_SID={oracle_sid} \\\n",
    "    PATH={oracle_home}/bin:$PATH\n",
    "    \n",
    "RUN yum -y install unzip\n",
    "RUN yum -y install oracle-database-preinstall-18c\n",
    "RUN yum -y install openssl\n",
    "    \n",
    "# RUN groupadd -g 500 dba\n",
    "# RUN useradd -ms /bin/bash -g dba oracle\n",
    "\n",
    "RUN mkdir -p $ORACLE_BASE\n",
    "RUN mkdir -p $ORACLE_HOME\n",
    "RUN mkdir -p {container_install_dir}\n",
    "\n",
    "RUN chown -R oracle:dba {oracle_base}\n",
    "RUN chown -R oracle:dba {oracle_home}\n",
    "RUN chown -R oracle:dba {container_install_dir}\n",
    "\n",
    "USER oracle\n",
    "WORKDIR /home/oracle\n",
    "\n",
    "VOLUME [\"$ORACLE_BASE/oradata\"]\n",
    "VOLUME [\"{container_install_dir}\"]\n",
    "EXPOSE 1521 8080 5500\n",
    "'''\n",
    "\n",
    "with open('Dockerfile','w') as f:\n",
    "    f.write(script)\n"
   ]
  },
  {
   "cell_type": "code",
   "execution_count": 33,
   "metadata": {},
   "outputs": [
    {
     "name": "stdout",
     "output_type": "stream",
     "text": [
      "{'stream': 'Step 1/16 : FROM oraclelinux:7-slim'}\n",
      "{'stream': '\\n'}\n",
      "{'stream': ' ---> c3d869388183\\n'}\n",
      "{'stream': 'Step 2/16 : ENV ORACLE_BASE=/u01/app/oracle     ORACLE_HOME=/u01/app/oracle/product/18.0.0/dbhome_1     ORACLE_SID=ORCL     PATH=/u01/app/oracle/product/18.0.0/dbhome_1/bin:$PATH'}\n",
      "{'stream': '\\n'}\n",
      "{'stream': ' ---> Using cache\\n'}\n",
      "{'stream': ' ---> 90bb90b00829\\n'}\n",
      "{'stream': 'Step 3/16 : RUN yum -y install unzip'}\n",
      "{'stream': '\\n'}\n",
      "{'stream': ' ---> Using cache\\n'}\n",
      "{'stream': ' ---> 264887cd2f56\\n'}\n",
      "{'stream': 'Step 4/16 : RUN yum -y install oracle-database-preinstall-18c'}\n",
      "{'stream': '\\n'}\n",
      "{'stream': ' ---> Using cache\\n'}\n",
      "{'stream': ' ---> 6fca7ff0e876\\n'}\n",
      "{'stream': 'Step 5/16 : RUN yum -y install openssl'}\n",
      "{'stream': '\\n'}\n",
      "{'stream': ' ---> Using cache\\n'}\n",
      "{'stream': ' ---> 55d45ae1a4e0\\n'}\n",
      "{'stream': 'Step 6/16 : RUN mkdir -p $ORACLE_BASE'}\n",
      "{'stream': '\\n'}\n",
      "{'stream': ' ---> Running in 33f9b6e899e9\\n'}\n",
      "{'stream': 'Removing intermediate container 33f9b6e899e9\\n'}\n",
      "{'stream': ' ---> c341a556f340\\n'}\n",
      "{'stream': 'Step 7/16 : RUN mkdir -p $ORACLE_HOME'}\n",
      "{'stream': '\\n'}\n",
      "{'stream': ' ---> Running in 83aa53816252\\n'}\n",
      "{'stream': 'Removing intermediate container 83aa53816252\\n'}\n",
      "{'stream': ' ---> df4e6a22f1a8\\n'}\n",
      "{'stream': 'Step 8/16 : RUN mkdir -p /u01/install_files'}\n",
      "{'stream': '\\n'}\n",
      "{'stream': ' ---> Running in 1e1b860a8150\\n'}\n",
      "{'stream': 'Removing intermediate container 1e1b860a8150\\n'}\n",
      "{'stream': ' ---> a45003bd3665\\n'}\n",
      "{'stream': 'Step 9/16 : RUN chown -R oracle:dba /u01/app/oracle'}\n",
      "{'stream': '\\n'}\n",
      "{'stream': ' ---> Running in 68a828c77362\\n'}\n",
      "{'stream': 'Removing intermediate container 68a828c77362\\n'}\n",
      "{'stream': ' ---> ebfc73b237d8\\n'}\n",
      "{'stream': 'Step 10/16 : RUN chown -R oracle:dba /u01/app/oracle/product/18.0.0/dbhome_1'}\n",
      "{'stream': '\\n'}\n",
      "{'stream': ' ---> Running in 97749316150a\\n'}\n",
      "{'stream': 'Removing intermediate container 97749316150a\\n'}\n",
      "{'stream': ' ---> 9aa6214d966e\\n'}\n",
      "{'stream': 'Step 11/16 : RUN chown -R oracle:dba /u01/install_files'}\n",
      "{'stream': '\\n'}\n",
      "{'stream': ' ---> Running in bee9c86039f2\\n'}\n",
      "{'stream': 'Removing intermediate container bee9c86039f2\\n'}\n",
      "{'stream': ' ---> bf7cbb3efdb3\\n'}\n",
      "{'stream': 'Step 12/16 : USER oracle'}\n",
      "{'stream': '\\n'}\n",
      "{'stream': ' ---> Running in 34328c7f0be3\\n'}\n",
      "{'stream': 'Removing intermediate container 34328c7f0be3\\n'}\n",
      "{'stream': ' ---> 31d2b0e0416e\\n'}\n",
      "{'stream': 'Step 13/16 : WORKDIR /home/oracle'}\n",
      "{'stream': '\\n'}\n",
      "{'stream': ' ---> Running in 33fed7b5030b\\n'}\n",
      "{'stream': 'Removing intermediate container 33fed7b5030b\\n'}\n",
      "{'stream': ' ---> 209a7a5fbcef\\n'}\n",
      "{'stream': 'Step 14/16 : VOLUME [\"$ORACLE_BASE/oradata\"]'}\n",
      "{'stream': '\\n'}\n",
      "{'stream': ' ---> Running in c3ae7deac726\\n'}\n",
      "{'stream': 'Removing intermediate container c3ae7deac726\\n'}\n",
      "{'stream': ' ---> b0291ff5aeab\\n'}\n",
      "{'stream': 'Step 15/16 : VOLUME [\"/u01/install_files\"]'}\n",
      "{'stream': '\\n'}\n",
      "{'stream': ' ---> Running in bb2a45e8a72c\\n'}\n",
      "{'stream': 'Removing intermediate container bb2a45e8a72c\\n'}\n",
      "{'stream': ' ---> a12d3ab9cc75\\n'}\n",
      "{'stream': 'Step 16/16 : EXPOSE 1521 8080 5500'}\n",
      "{'stream': '\\n'}\n",
      "{'stream': ' ---> Running in e813ea6854a7\\n'}\n",
      "{'stream': 'Removing intermediate container e813ea6854a7\\n'}\n",
      "{'stream': ' ---> ab9b3eb4b66f\\n'}\n",
      "{'aux': {'ID': 'sha256:ab9b3eb4b66f11de1f6d77e9544f94c202af84f0301582996a636bd21b1a996a'}}\n",
      "{'stream': 'Successfully built ab9b3eb4b66f\\n'}\n",
      "{'stream': 'Successfully tagged db18.0.0:latest\\n'}\n"
     ]
    }
   ],
   "source": [
    "image, output = client.images.build(path=os.getcwd(),dockerfile='Dockerfile',tag=f\"db{oracle_version}\",rm=\"True\",nocache=\"False\")\n",
    "for out in output:\n",
    "    print(out)"
   ]
  },
  {
   "cell_type": "code",
   "execution_count": null,
   "metadata": {},
   "outputs": [],
   "source": [
    "db_container = client.containers.create(image.short_id,\n",
    "                                       command=\"/bin/bash\",\n",
    "                                       hostname=p_host_name,\n",
    "                                       tty=True,\n",
    "                                       stdin_open=True,\n",
    "                                       auto_remove=False,\n",
    "                                       name=p_host_name,\n",
    "                                       shm_size='3G',\n",
    "                                       # network_mode='host',\n",
    "                                       ports={1521:1522,5500:5501},\n",
    "                                       volumes={host_orabase: {'bind': container_oradata, 'mode': 'rw'}, host_install_dir: {'bind': container_install_dir, 'mode': 'rw'}},\n",
    "                                       environment={'PATH':path,'ORACLE_SID': db_name, 'ORACLE_BASE': oracle_base,'TNS_ADMIN': tns_admin, 'ORACLE_HOME':oracle_home}\n",
    "                                       )\n",
    "\n",
    "#                                        volumes={host_orabase: {'bind': oracle_base, 'mode': 'rw'}, host_install_dir: {'bind': container_install_dir, 'mode': 'rw'}},\n",
    "\n",
    "db_container.start()\n",
    "p_ip_adress = db_container.attrs['NetworkSettings']['IPAddress']"
   ]
  },
  {
   "cell_type": "code",
   "execution_count": 36,
   "metadata": {},
   "outputs": [],
   "source": [
    "containter_exec(db_container, f'mkdir -p {container_oradata}/{db_name}')\n",
    "containter_exec(db_container, f'mkdir -p {tns_admin}')\n",
    "containter_exec(db_container, f'mkdir -p {r_area}/{db_name}')\n",
    "containter_exec(db_container, f'mkdir -p {a_area}')\n",
    "containter_exec(db_container, f'mkdir -p {oracle_base}/oraInventory')\n",
    "containter_exec(db_container, f'mkdir -p {oracle_home}')\n",
    "containter_root_exec(db_container,'usermod -a -G dba oracle')"
   ]
  },
  {
   "cell_type": "markdown",
   "metadata": {},
   "source": [
    "### Unzip Oracle Database software and validate\n",
    "Unzip the Oracle software which should be located in the `host_install_dir` variable."
   ]
  },
  {
   "cell_type": "code",
   "execution_count": 37,
   "metadata": {},
   "outputs": [
    {
     "data": {
      "text/markdown": [
       "Unzipping LINUX.X64_180000_db_home.zip"
      ],
      "text/plain": [
       "<IPython.core.display.Markdown object>"
      ]
     },
     "metadata": {},
     "output_type": "display_data"
    }
   ],
   "source": [
    "files = [f for f in os.listdir(host_install_dir) if f.endswith('.zip')]\n",
    "    \n",
    "if files == 0:\n",
    "    display(Markdown(f\"**There doesn't appear to be any zip files in the {host_install_dir} directory. This should contain the oracle database for Linux 64bit in its orginal zipped format**\"))\n",
    "else:\n",
    "    display(Markdown(f'Unzipping {files[0]}'))\n",
    "    containter_exec(db_container, f'unzip -o {container_install_dir}/{files[0]} -d {oracle_home}', show_output=False, stream_val=False)\n",
    "    \n"
   ]
  },
  {
   "cell_type": "code",
   "execution_count": 38,
   "metadata": {},
   "outputs": [
    {
     "data": {
      "text/markdown": [
       "Directory Contents"
      ],
      "text/plain": [
       "<IPython.core.display.Markdown object>"
      ]
     },
     "metadata": {},
     "output_type": "display_data"
    },
    {
     "name": "stdout",
     "output_type": "stream",
     "text": [
      "total 300\n",
      "drwxr-x--- 14 oracle oinstall  4096 Jun  4  2018 OPatch\n",
      "drwxr-xr-x  2 oracle oinstall  4096 Feb  7  2018 QOpatch\n",
      "drwxr-xr-x  5 oracle oinstall  4096 Feb  7  2018 R\n",
      "drwxr-xr-x  2 oracle oinstall  4096 Jul 18  2018 addnode\n",
      "drwxr-xr-x  6 oracle oinstall  4096 Feb  7  2018 apex\n",
      "drwxr-xr-x  9 oracle oinstall  4096 Jul 18  2018 assistants\n",
      "drwxr-xr-x  2 oracle oinstall  4096 Jul 18  2018 bin\n",
      "drwxr-xr-x  4 oracle oinstall  4096 Jul 18  2018 clone\n",
      "drwxr-xr-x  6 oracle oinstall  4096 Jul 18  2018 crs\n",
      "drwxr-xr-x  3 oracle oinstall  4096 Feb  7  2018 css\n",
      "drwxr-xr-x 11 oracle oinstall  4096 Feb  7  2018 ctx\n",
      "drwxr-xr-x  7 oracle oinstall  4096 Jul 18  2018 cv\n",
      "drwxr-xr-x  3 oracle oinstall  4096 Feb  7  2018 data\n",
      "drwxr-xr-x  3 oracle oinstall  4096 Feb  7  2018 dbjava\n",
      "drwxr-xr-x  2 oracle oinstall  4096 Feb  7  2018 dbs\n",
      "drwxr-xr-x  5 oracle oinstall  4096 Jul 18  2018 deinstall\n",
      "drwxr-xr-x  3 oracle oinstall  4096 Jul 18  2018 demo\n",
      "drwxr-xr-x  3 oracle oinstall  4096 Feb  7  2018 diagnostics\n",
      "drwxr-xr-x 13 oracle oinstall  4096 Feb  7  2018 dmu\n",
      "drwxr-xr-x  4 oracle oinstall  4096 Jul 18  2018 drdaas\n",
      "drwxr-xr-x  3 oracle oinstall  4096 Feb  7  2018 dv\n",
      "-rw-r--r--  1 oracle oinstall   852 Aug 18  2015 env.ora\n",
      "drwxr-xr-x  3 oracle oinstall  4096 Feb  7  2018 has\n",
      "drwxr-xr-x  5 oracle oinstall  4096 Jul 18  2018 hs\n",
      "drwxr-xr-x 10 oracle oinstall  4096 Jul 18  2018 install\n",
      "drwxr-xr-x  2 oracle oinstall  4096 Feb  7  2018 instantclient\n",
      "drwxr-x--- 13 oracle oinstall  4096 Jul 18  2018 inventory\n",
      "drwxr-xr-x  8 oracle oinstall  4096 Jul 18  2018 javavm\n",
      "drwxr-xr-x  3 oracle oinstall  4096 Feb  7  2018 jdbc\n",
      "drwxr-xr-x  7 oracle oinstall  4096 Jul 18  2018 jdk\n",
      "drwxr-xr-x  2 oracle oinstall  4096 Jul 18  2018 jlib\n",
      "drwxr-xr-x 10 oracle oinstall  4096 Jul 18  2018 ldap\n",
      "drwxr-xr-x  3 oracle oinstall 16384 Jul 18  2018 lib\n",
      "drwxr-xr-x  2 oracle oinstall  4096 Feb  7  2018 log\n",
      "drwxr-xr-x  9 oracle oinstall  4096 Jul 18  2018 md\n",
      "drwxr-xr-x  4 oracle oinstall  4096 Feb  7  2018 mgw\n",
      "drwxr-xr-x 10 oracle oinstall  4096 Jul 18  2018 network\n",
      "drwxr-xr-x  5 oracle oinstall  4096 Jul 18  2018 nls\n",
      "drwxr-xr-x  8 oracle oinstall  4096 Feb  7  2018 odbc\n",
      "drwxr-xr-x  5 oracle oinstall  4096 Feb  7  2018 olap\n",
      "drwxr-xr-x  7 oracle oinstall  4096 Jul 18  2018 opmn\n",
      "drwxr-xr-x  4 oracle oinstall  4096 Feb  7  2018 oracore\n",
      "drwxr-xr-x  7 oracle oinstall  4096 Jul 18  2018 ord\n",
      "drwxr-xr-x  3 oracle oinstall  4096 Feb  7  2018 ordim\n",
      "drwxr-xr-x  4 oracle oinstall  4096 Feb  7  2018 ords\n",
      "drwxr-xr-x  3 oracle oinstall  4096 Feb  7  2018 oss\n",
      "drwxr-xr-x  8 oracle oinstall  4096 Jul 18  2018 oui\n",
      "drwxr-xr-x  4 oracle oinstall  4096 Feb  7  2018 owm\n",
      "drwxr-xr-x  5 oracle oinstall  4096 Jul 18  2018 perl\n",
      "drwxr-xr-x  6 oracle oinstall  4096 Feb  7  2018 plsql\n",
      "drwxr-xr-x  6 oracle oinstall  4096 Jul 18  2018 precomp\n",
      "drwxr-xr-x  4 oracle oinstall  4096 Feb  7  2018 racg\n",
      "drwxr-xr-x 13 oracle oinstall  4096 Jul 18  2018 rdbms\n",
      "drwxr-xr-x  3 oracle oinstall  4096 Feb  7  2018 relnotes\n",
      "-rwx------  1 oracle oinstall   638 Jul 18  2018 root.sh\n",
      "-rwx------  1 oracle oinstall   786 Feb  7  2018 root.sh.old\n",
      "-rw-r-----  1 oracle oinstall    10 Feb  7  2018 root.sh.old.1\n",
      "-rwxr-x---  1 oracle oinstall  1783 Mar  8  2017 runInstaller\n",
      "-rw-r--r--  1 oracle oinstall  2927 Oct 14  2016 schagent.conf\n",
      "drwxr-xr-x  5 oracle oinstall  4096 Feb  7  2018 sdk\n",
      "drwxr-xr-x  3 oracle oinstall  4096 Feb  7  2018 slax\n",
      "drwxr-xr-x 22 oracle oinstall  4096 Feb  7  2018 sqldeveloper\n",
      "drwxr-xr-x  3 oracle oinstall  4096 Feb  7  2018 sqlj\n",
      "drwxr-xr-x  5 oracle oinstall  4096 Jul 18  2018 sqlpatch\n",
      "drwxr-xr-x  6 oracle oinstall  4096 Jul 18  2018 sqlplus\n",
      "drwxr-xr-x  6 oracle oinstall  4096 Feb  7  2018 srvm\n",
      "drwxr-xr-x  5 oracle oinstall  4096 Feb  7  2018 suptools\n",
      "drwxr-xr-x  3 oracle oinstall  4096 Feb  7  2018 ucp\n",
      "drwxr-xr-x  4 oracle oinstall  4096 Feb  7  2018 usm\n",
      "drwxr-xr-x  2 oracle oinstall  4096 Feb  7  2018 utl\n",
      "drwxr-xr-x  3 oracle oinstall  4096 Feb  7  2018 wwg\n",
      "drwxr-x---  7 oracle oinstall  4096 Feb  7  2018 xdk\n"
     ]
    }
   ],
   "source": [
    "display(Markdown('Directory Contents'))\n",
    "containter_exec(db_container, f'ls -l {oracle_home}')"
   ]
  },
  {
   "cell_type": "markdown",
   "metadata": {},
   "source": [
    "Modify the response file template to reflect my own settings"
   ]
  },
  {
   "cell_type": "code",
   "execution_count": 39,
   "metadata": {},
   "outputs": [],
   "source": [
    "script = f'''oracle.install.responseFileVersion=/oracle/install/rspfmt_dbinstall_response_schema_v18.0.0\n",
    "oracle.install.option=INSTALL_DB_SWONLY\n",
    "UNIX_GROUP_NAME=dba\n",
    "INVENTORY_LOCATION={oracle_base}/oraInventory\n",
    "ORACLE_BASE={oracle_base}\n",
    "ORACLE_HOME={oracle_home}\n",
    "oracle.install.db.InstallEdition=EE\n",
    "oracle.install.db.OSDBA_GROUP=dba\n",
    "# oracle.install.db.OSOPER_GROUP=dba\n",
    "oracle.install.db.OSBACKUPDBA_GROUP=dba\n",
    "oracle.install.db.OSDGDBA_GROUP=dba\n",
    "oracle.install.db.OSKMDBA_GROUP=dba\n",
    "oracle.install.db.OSRACDBA_GROUP=dba\n",
    "'''\n",
    "\n",
    "with open('db_install.rsp','w') as f:\n",
    "    f.write(script)"
   ]
  },
  {
   "cell_type": "code",
   "execution_count": 40,
   "metadata": {},
   "outputs": [],
   "source": [
    "copy_to(f'{os.getcwd()}/db_install.rsp', f'{oracle_home}/db_install.rsp', db_container)"
   ]
  },
  {
   "cell_type": "markdown",
   "metadata": {},
   "source": [
    "### Run the Oracle Installer\n",
    "Run the Oracle Installer in silent mode with a response file."
   ]
  },
  {
   "cell_type": "code",
   "execution_count": 41,
   "metadata": {},
   "outputs": [
    {
     "name": "stdout",
     "output_type": "stream",
     "text": [
      "Launching Oracle Database Setup Wizard...\n",
      "[WARNING] [INS-32055] The Central Inventory is located in the Oracle base.\n",
      "   ACTION: Oracle recommends placing this Central Inventory in a location outside the Oracle base directory.\n",
      "[WARNING] [INS-13013] Target environment does not meet some mandatory requirements.\n",
      "   CAUSE: Some of the mandatory prerequisites are not met. See logs for details. /tmp/InstallActions2019-03-03_03-17-36PM/installActions2019-03-03_03-17-36PM.log\n",
      "   ACTION: Identify the list of failed prerequisite checks from the log: /tmp/InstallActions2019-03-03_03-17-36PM/installActions2019-03-03_03-17-36PM.log. Then either from the log file or from installation manual find the appropriate configuration to meet the prerequisites and fix it manually.\n",
      "The response file for this session can be found at:\n",
      " /u01/app/oracle/product/18.0.0/dbhome_1/install/response/db_2019-03-03_03-17-36PM.rsp\n",
      "\n",
      "You can find the log of this install session at:\n",
      " /tmp/InstallActions2019-03-03_03-17-36PM/installActions2019-03-03_03-17-36PM.log\n",
      "As a root user, execute the following script(s):\n",
      "\t1. /u01/app/oracle/oraInventory/orainstRoot.sh\n",
      "\t2. /u01/app/oracle/product/18.0.0/dbhome_1/root.sh\n",
      "Execute /u01/app/oracle/oraInventory/orainstRoot.sh on the following nodes: \n",
      "[oracle_db]\n",
      "\n",
      "Execute /u01/app/oracle/product/18.0.0/dbhome_1/root.sh on the following nodes: \n",
      "[oracle_db]\n",
      "Successfully Setup Software with warning(s).\n",
      "Moved the install session logs to:\n",
      " /u01/app/oracle/oraInventory/logs/InstallActions2019-03-03_03-17-36PM\n"
     ]
    }
   ],
   "source": [
    "containter_exec(db_container, f'{oracle_home}/runInstaller -silent -force -waitforcompletion -responsefile {oracle_home}/db_install.rsp -ignorePrereqFailure')"
   ]
  },
  {
   "cell_type": "code",
   "execution_count": 42,
   "metadata": {},
   "outputs": [
    {
     "name": "stdout",
     "output_type": "stream",
     "text": [
      "Changing permissions of /u01/app/oracle/oraInventory.\n",
      "Adding read,write permissions for group.\n",
      "Removing read,write,execute permissions for world.\n",
      "Changing groupname of /u01/app/oracle/oraInventory to dba.\n",
      "The execution of the script is complete.\n",
      "Check /u01/app/oracle/product/18.0.0/dbhome_1/install/root_oracle_db_2019-03-03_15-22-52-118493400.log for the output of root script\n"
     ]
    }
   ],
   "source": [
    "containter_root_exec(db_container,f'/bin/bash {oracle_base}/oraInventory/orainstRoot.sh')\n",
    "containter_root_exec(db_container,f'/bin/bash {oracle_home}/root.sh')"
   ]
  },
  {
   "cell_type": "markdown",
   "metadata": {},
   "source": [
    "### Commit the container to create an image\n",
    "The following code should be changed to relect you\n"
   ]
  },
  {
   "cell_type": "code",
   "execution_count": 43,
   "metadata": {},
   "outputs": [
    {
     "data": {
      "text/plain": [
       "<Image: 'dominicgiles:db18.0.0'>"
      ]
     },
     "execution_count": 43,
     "metadata": {},
     "output_type": "execute_result"
    }
   ],
   "source": [
    "repository_name = 'dominicgiles'\n",
    "db_container.commit(repository=repository_name,tag='db{oracle_version}')"
   ]
  },
  {
   "cell_type": "markdown",
   "metadata": {},
   "source": [
    "## Tidy Up\n",
    "The following code is included to enable you to quickly drop the container and potentially the immage.\n"
   ]
  },
  {
   "cell_type": "code",
   "execution_count": 446,
   "metadata": {},
   "outputs": [],
   "source": [
    "db_container.stop()\n",
    "db_container.remove()"
   ]
  },
  {
   "cell_type": "code",
   "execution_count": 9,
   "metadata": {},
   "outputs": [
    {
     "data": {
      "text/html": [
       "<table>\n",
       "    <tr>\n",
       "        <th>Name</th>\n",
       "        <th>Short id</th>\n",
       "        <th>Status</th>\n",
       "        <th>IP Address</th>\n",
       "    </tr>\n",
       "    <tr>\n",
       "        <td>oracleprimary</td>\n",
       "        <td>13e939c759</td>\n",
       "        <td>running</td>\n",
       "        <td>172.17.0.2</td>\n",
       "    </tr>\n",
       "</table>"
      ],
      "text/plain": [
       "<IPython.core.display.HTML object>"
      ]
     },
     "metadata": {},
     "output_type": "display_data"
    }
   ],
   "source": [
    "list_containers(client)"
   ]
  },
  {
   "cell_type": "code",
   "execution_count": 3,
   "metadata": {},
   "outputs": [
    {
     "data": {
      "text/html": [
       "<table>\n",
       "    <tr>\n",
       "        <th>Tag</th>\n",
       "        <th>id</th>\n",
       "        <th>Size</th>\n",
       "    </tr>\n",
       "    <tr>\n",
       "        <td>dominicgiles:db18.0.0</td>\n",
       "        <td>b4e9063e4d</td>\n",
       "        <td>10.8 GB</td>\n",
       "    </tr>\n",
       "    <tr>\n",
       "        <td>db18.0.0:latest</td>\n",
       "        <td>ab9b3eb4b6</td>\n",
       "        <td>942.8 MB</td>\n",
       "    </tr>\n",
       "    <tr>\n",
       "        <td></td>\n",
       "        <td>bf1b5daee4</td>\n",
       "        <td>318.0 MB</td>\n",
       "    </tr>\n",
       "    <tr>\n",
       "        <td>oraclelinux:7-slim</td>\n",
       "        <td>c3d8693881</td>\n",
       "        <td>117.3 MB</td>\n",
       "    </tr>\n",
       "    <tr>\n",
       "        <td>giaas.us.oracle.com:5001/dominic.giles/104213:db19000</td>\n",
       "        <td>808b7de5b5</td>\n",
       "        <td>7.8 GB</td>\n",
       "    </tr>\n",
       "    <tr>\n",
       "        <td>dbtools-docker.dockerhub-den.oraclecorp.com/oracle/sdw:18.4.0</td>\n",
       "        <td>af2d2f4838</td>\n",
       "        <td>1.8 GB</td>\n",
       "    </tr>\n",
       "    <tr>\n",
       "        <td>dbtools-docker.dockerhub-den.oraclecorp.com/oracle/database:18.3.0-ee</td>\n",
       "        <td>c9eae81d87</td>\n",
       "        <td>8.4 GB</td>\n",
       "    </tr>\n",
       "</table>"
      ],
      "text/plain": [
       "<IPython.core.display.HTML object>"
      ]
     },
     "metadata": {},
     "output_type": "display_data"
    }
   ],
   "source": [
    "list_images(client)"
   ]
  },
  {
   "cell_type": "code",
   "execution_count": 449,
   "metadata": {},
   "outputs": [],
   "source": [
    "client.images.remove(image.id)"
   ]
  },
  {
   "cell_type": "code",
   "execution_count": 450,
   "metadata": {},
   "outputs": [
    {
     "data": {
      "text/html": [
       "<table>\n",
       "    <tr>\n",
       "        <th>Tag</th>\n",
       "        <th>id</th>\n",
       "        <th>Size</th>\n",
       "    </tr>\n",
       "    <tr>\n",
       "        <td>oraclelinux:7-slim</td>\n",
       "        <td>c3d8693881</td>\n",
       "        <td>117.3 MB</td>\n",
       "    </tr>\n",
       "    <tr>\n",
       "        <td>giaas.us.oracle.com:5001/dominic.giles/104213:db19000</td>\n",
       "        <td>808b7de5b5</td>\n",
       "        <td>7.8 GB</td>\n",
       "    </tr>\n",
       "    <tr>\n",
       "        <td>dbtools-docker.dockerhub-den.oraclecorp.com/oracle/sdw:18.4.0</td>\n",
       "        <td>af2d2f4838</td>\n",
       "        <td>1.8 GB</td>\n",
       "    </tr>\n",
       "    <tr>\n",
       "        <td>dbtools-docker.dockerhub-den.oraclecorp.com/oracle/database:18.3.0-ee</td>\n",
       "        <td>c9eae81d87</td>\n",
       "        <td>8.4 GB</td>\n",
       "    </tr>\n",
       "</table>"
      ],
      "text/plain": [
       "<IPython.core.display.HTML object>"
      ]
     },
     "metadata": {},
     "output_type": "display_data"
    }
   ],
   "source": [
    "list_images()"
   ]
  },
  {
   "cell_type": "code",
   "execution_count": null,
   "metadata": {},
   "outputs": [],
   "source": []
  }
 ],
 "metadata": {
  "kernelspec": {
   "display_name": "Python 3",
   "language": "python",
   "name": "python3"
  },
  "language_info": {
   "codemirror_mode": {
    "name": "ipython",
    "version": 3
   },
   "file_extension": ".py",
   "mimetype": "text/x-python",
   "name": "python",
   "nbconvert_exporter": "python",
   "pygments_lexer": "ipython3",
   "version": "3.6.4"
  }
 },
 "nbformat": 4,
 "nbformat_minor": 2
}
