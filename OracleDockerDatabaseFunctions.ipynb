{
 "cells": [
  {
   "cell_type": "markdown",
   "metadata": {},
   "source": [
    "## Oracle Docker Image Shared Functions\n",
    "The following are a selection of shared functions used by various Juypter Notebooks that whilst useful don't need to included in the main notebooks."
   ]
  },
  {
   "cell_type": "code",
   "execution_count": 11,
   "metadata": {},
   "outputs": [],
   "source": [
    "import docker\n",
    "import os\n",
    "import tarfile\n",
    "from prettytable import PrettyTable\n",
    "from IPython.display import HTML, display, Markdown\n",
    "import humanize\n",
    "import re"
   ]
  },
  {
   "cell_type": "code",
   "execution_count": 12,
   "metadata": {},
   "outputs": [],
   "source": [
    "def list_images(client):\n",
    "    from prettytable import PrettyTable\n",
    "    table = PrettyTable([\"Tag\", \"id\", \"Size\"])\n",
    "    check_for_tags = lambda i: i.tags[0] if len(i.tags) != 0 else ''\n",
    "    for image in client.images.list():\n",
    "        table.add_row(\n",
    "            [check_for_tags(image), image.short_id.replace('sha256:', ''), humanize.naturalsize(image.attrs['Size'])])\n",
    "    display(HTML(table.get_html_string()))"
   ]
  },
  {
   "cell_type": "code",
   "execution_count": 13,
   "metadata": {},
   "outputs": [],
   "source": [
    "def list_containers(client):\n",
    "    table = PrettyTable([\"Name\", \"Short id\", \"Status\", \"IP Address\"])\n",
    "    table.align[\"Name\"] = \"l\"\n",
    "    for container in client.containers.list(all=True):\n",
    "        table.add_row([container.name, container.short_id, container.status, container.attrs['NetworkSettings']['IPAddress']])\n",
    "        # for key, value in container.attrs.iteritems():\n",
    "        #     print(key, value)\n",
    "    display(HTML(table.get_html_string()))"
   ]
  },
  {
   "cell_type": "code",
   "execution_count": 14,
   "metadata": {},
   "outputs": [],
   "source": [
    "def copy_to(src, dest, container):\n",
    "    \n",
    "    \n",
    "    os.chdir(os.path.dirname(src))\n",
    "    srcname = os.path.basename(src)\n",
    "    tar = tarfile.open(src + '.tar', mode='w')\n",
    "    try:\n",
    "        tar.add(srcname)\n",
    "    finally:\n",
    "        tar.close()\n",
    "\n",
    "    tar_data = open(src + '.tar', 'rb').read()\n",
    "    container.put_archive(path=os.path.dirname(dest), data=tar_data)\n",
    "#     os.remove(src)\n",
    "    os.remove(src + '.tar')"
   ]
  },
  {
   "cell_type": "code",
   "execution_count": 15,
   "metadata": {},
   "outputs": [],
   "source": [
    "def create_and_run_script(script, script_local_path, script_target_path,  command, target):\n",
    "    \n",
    "    copy_to(script, script_local_path, target.name+\":\"+script_target_path)\n",
    "\n",
    "    print(command)\n",
    "    target.start()\n",
    "    output = target.exec_run(command,\n",
    "                              stderr=True,\n",
    "                              stdout=True,\n",
    "                              stream=True\n",
    "                              )\n",
    "    for line in output[1]:\n",
    "        o_line = line.decode('UTF-8')\n",
    "        print(o_line.strip())"
   ]
  },
  {
   "cell_type": "code",
   "execution_count": 16,
   "metadata": {},
   "outputs": [],
   "source": [
    "def containter_exec(target, target_command, show_output=True, stream_val=True):\n",
    "    \n",
    "    target.start()\n",
    "    output = target.exec_run(target_command,\n",
    "                                  stderr=True,\n",
    "                                  stdout=True,\n",
    "                                  stream=stream_val\n",
    "                                  )\n",
    "    if show_output:\n",
    "        for line in output[1]:\n",
    "            o_line = line.decode('UTF-8')\n",
    "            print(o_line.strip())"
   ]
  },
  {
   "cell_type": "code",
   "execution_count": 17,
   "metadata": {},
   "outputs": [],
   "source": [
    "def containter_root_exec(target, target_command, show_output=True, stream_val=True):\n",
    "    \n",
    "    target.start()\n",
    "    output = target.exec_run(target_command,\n",
    "                                  stderr=True,\n",
    "                                  stdout=True,\n",
    "                                  stream=stream_val,\n",
    "                                  user='root',\n",
    "                                  workdir='/'\n",
    "                                  )\n",
    "    if show_output:\n",
    "        for line in output[1]:\n",
    "            o_line = line.decode('UTF-8')\n",
    "            print(o_line.strip())"
   ]
  },
  {
   "cell_type": "code",
   "execution_count": null,
   "metadata": {},
   "outputs": [],
   "source": []
  }
 ],
 "metadata": {
  "kernelspec": {
   "display_name": "Python 3",
   "language": "python",
   "name": "python3"
  },
  "language_info": {
   "codemirror_mode": {
    "name": "ipython",
    "version": 3
   },
   "file_extension": ".py",
   "mimetype": "text/x-python",
   "name": "python",
   "nbconvert_exporter": "python",
   "pygments_lexer": "ipython3",
   "version": "3.6.4"
  }
 },
 "nbformat": 4,
 "nbformat_minor": 2
}
