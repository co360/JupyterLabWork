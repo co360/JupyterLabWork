{
 "cells": [
  {
   "cell_type": "markdown",
   "metadata": {},
   "source": [
    "## Create Swingbench Docker Image\n",
    "The following notebook creates a simple docker image to run the swingbench client. It's based on the OpenJDK Java8 docker image on Docker Hub to attempt to keep it's size down."
   ]
  },
  {
   "cell_type": "code",
   "execution_count": 41,
   "metadata": {},
   "outputs": [],
   "source": [
    "import docker\n",
    "import os\n",
    "import tarfile\n",
    "from prettytable import PrettyTable\n",
    "from IPython.display import HTML, display, Markdown\n",
    "import humanize\n",
    "import re\n",
    "from ipynb.fs.full.OracleDockerDatabaseFunctions import list_images,list_containers,copy_to,create_and_run_script,containter_exec,copy_string_to_file,containter_root_exec\n",
    "\n",
    "client = docker.from_env(timeout=600)"
   ]
  },
  {
   "cell_type": "code",
   "execution_count": null,
   "metadata": {},
   "outputs": [],
   "source": [
    "script = f'''\n",
    "# Dockerfile for swingbench\n",
    "# See www.dominicgiles.com/swingbench.html for further details\n",
    "\n",
    "\n",
    "FROM openjdk:8-slim\n",
    "\n",
    "RUN apt-get update \\\n",
    "&& apt-get install -y curl \\\n",
    "&& mkdir app \\\n",
    "&& curl \"http://www.dominicgiles.com/swingbench/swingbenchlatest.zip\" -o app/swingbench.zip\n",
    "\n",
    "WORKDIR /app\n",
    "RUN unzip swingbench.zip\n",
    "\n",
    "ENV PATH \"$PATH:/app/swingbench/bin\"\n",
    "\n",
    "WORKDIR /app/swingbench/bin\n",
    "'''\n",
    "\n",
    "with open('Dockerfile','w') as f:\n",
    "    f.write(script)\n",
    "\n",
    "image, output = client.images.build(path=os.getcwd(), dockerfile='Dockerfile', tag=\"swingbench:latest\" ,rm=\"True\",nocache=\"False\")\n",
    "for out in output:\n",
    "    print(out)"
   ]
  },
  {
   "cell_type": "code",
   "execution_count": null,
   "metadata": {},
   "outputs": [],
   "source": []
  }
 ],
 "metadata": {
  "kernelspec": {
   "display_name": "Python 3",
   "language": "python",
   "name": "python3"
  },
  "language_info": {
   "codemirror_mode": {
    "name": "ipython",
    "version": 3
   },
   "file_extension": ".py",
   "mimetype": "text/x-python",
   "name": "python",
   "nbconvert_exporter": "python",
   "pygments_lexer": "ipython3",
   "version": "3.6.4"
  }
 },
 "nbformat": 4,
 "nbformat_minor": 2
}
