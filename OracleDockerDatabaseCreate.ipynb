{
 "cells": [
  {
   "cell_type": "markdown",
   "metadata": {},
   "source": [
    "# Create Oracle Database in Docker Container\n",
    "\n",
    "These Python (3.6) scripts walk through the creation of a database and standby server. The reason I've done this rather than just take the default configuration is that this approach gives me a lot more control over the build and enables me to change specifc steps. If you are just wanting to get the Oracle Database running inside of Docker I strongly suggest that you use the docker files and guides in the [Oracle Github repository](https://github.com/oracle/docker-images/tree/master/OracleDatabase/SingleInstance). The approach documented below is very much for someone who is interested in a high level of control over the various steps in the installation and configuration of the Oracle Database. This current version is build on top of Oracle's Internal GiaaS docker image but will be extended to support the public dockers images as well. It aims to build an Active Data Guard model with maximum performance but can be trivially changed to support any of the required models.\n",
    "\n",
    "It uses a mix of calls to the Docker Python API and Calls direct to the databases via cx_Oracle.\n",
    "\n",
    "The following code section imports the needed modules to setup up our Docker container to create the Oracle Database. After that we get a Docker client handle which enables use to call the API against our local Docker environment."
   ]
  },
  {
   "cell_type": "code",
   "execution_count": 1,
   "metadata": {},
   "outputs": [],
   "source": [
    "import docker\n",
    "import humanize\n",
    "import os\n",
    "import tarfile\n",
    "from prettytable import PrettyTable\n",
    "import cx_Oracle\n",
    "from IPython.display import HTML, display\n",
    "import keyring\n",
    "from ipynb.fs.full.OracleDockerDatabaseFunctions import list_images,list_containers,copy_to,create_and_run_script,containter_exec,containter_root_exec,copy_string_to_file\n",
    "\n",
    "client = docker.from_env(timeout=600)"
   ]
  },
  {
   "cell_type": "code",
   "execution_count": 2,
   "metadata": {},
   "outputs": [
    {
     "data": {
      "text/html": [
       "<table>\n",
       "    <tr>\n",
       "        <th>Tag</th>\n",
       "        <th>id</th>\n",
       "        <th>Size</th>\n",
       "    </tr>\n",
       "    <tr>\n",
       "        <td>dominicgiles:db18.0.0</td>\n",
       "        <td>cc75a47617</td>\n",
       "        <td>10.8 GB</td>\n",
       "    </tr>\n",
       "    <tr>\n",
       "        <td>linux_for_db18.0.0:latest</td>\n",
       "        <td>b350079361</td>\n",
       "        <td>926.8 MB</td>\n",
       "    </tr>\n",
       "    <tr>\n",
       "        <td>oraclelinux:7-slim</td>\n",
       "        <td>c3d8693881</td>\n",
       "        <td>117.3 MB</td>\n",
       "    </tr>\n",
       "    <tr>\n",
       "        <td>giaas.us.oracle.com:5001/dominic.giles/104213:db19000</td>\n",
       "        <td>808b7de5b5</td>\n",
       "        <td>7.8 GB</td>\n",
       "    </tr>\n",
       "    <tr>\n",
       "        <td>dbtools-docker.dockerhub-den.oraclecorp.com/oracle/sdw:18.4.0</td>\n",
       "        <td>af2d2f4838</td>\n",
       "        <td>1.8 GB</td>\n",
       "    </tr>\n",
       "    <tr>\n",
       "        <td>dbtools-docker.dockerhub-den.oraclecorp.com/oracle/database:18.3.0-ee</td>\n",
       "        <td>c9eae81d87</td>\n",
       "        <td>8.4 GB</td>\n",
       "    </tr>\n",
       "</table>"
      ],
      "text/plain": [
       "<IPython.core.display.HTML object>"
      ]
     },
     "metadata": {},
     "output_type": "display_data"
    }
   ],
   "source": [
    "list_images(client)"
   ]
  },
  {
   "cell_type": "markdown",
   "metadata": {},
   "source": [
    "### Configuration Parameters\n",
    "The following section contains the parameters for setting the configuration of the install. The following parameters `image_name`,`host_oradata`,`sb_host_oradata` need to be changed, although `sb_host_oradata` is only important if you are planning on installing a standby database."
   ]
  },
  {
   "cell_type": "code",
   "execution_count": 3,
   "metadata": {},
   "outputs": [],
   "source": [
    "# The following parameters are specific to your install and almost certainly need to be changed\n",
    "image_name = 'cc75a47617' # Taken from the id value above\n",
    "host_oradata = '/Users/dgiles/Downloads/dockerdbs/oradataprimary' # The directory on the host where primary database will be persisted\n",
    "sb_host_oradata = '/Users/dgiles/Downloads/dockerdbs/oradatastby' # The direcotry on the host where the standby database will be persisted\n",
    "#\n",
    "# The rest are fairly generic and can be changed if needed\n",
    "oracle_version = '18.0.0'\n",
    "db_name = 'ORCL'\n",
    "stby_name = 'ORCL_STBY'\n",
    "sys_password =  keyring.get_password('docker','sys') # I'm just using keyring to hide my password but you can set it to a simple sting i.e. 'mypassword'\n",
    "pdb_name = 'soe'\n",
    "p_host_name = 'oracleprimary'\n",
    "sb_host_name = 'oraclestby'\n",
    "total_memory = 2048\n",
    "\n",
    "container_oradata = '/u01/app/oracle/oradata'\n",
    "o_base = '/u01/app/oracle'\n",
    "r_area = f'{o_base}/oradata/recovery_area'\n",
    "o_area = f'{o_base}/oradata/'\n",
    "a_area = f'{o_base}/admin/ORCL/adump'\n",
    "o_home = f'{o_base}/product/{oracle_version}/dbhome_1'\n",
    "t_admin = f'{o_base}/oradata/dbconfig'\n",
    "log_size = 200\n"
   ]
  },
  {
   "cell_type": "markdown",
   "metadata": {},
   "source": [
    "## Create Primary Database\n",
    "This code does the heavy lifting. It creates a container **oracleprimary** (unless you changed the paramter) running the Oracle Database.  The containers 1521 port is mapped onto the the hosts 1521 port. This means that to connect from the host, via a tool like sqlplus, all you'd need to do is `sqlplus soe/soe@//locahost/soe`."
   ]
  },
  {
   "cell_type": "code",
   "execution_count": 4,
   "metadata": {},
   "outputs": [],
   "source": [
    "path = f'{o_home}/bin:/usr/local/sbin:/usr/local/bin:/usr/sbin:/usr/bin:/sbin:/bin'\n",
    "\n",
    "p_container = client.containers.create(image_name,\n",
    "                                       command=\"/bin/bash\",\n",
    "                                       hostname=p_host_name,\n",
    "                                       tty=True,\n",
    "                                       stdin_open=True,\n",
    "                                       auto_remove=False,\n",
    "                                       name=p_host_name,\n",
    "                                       shm_size='3G',\n",
    "                                       # network_mode='host',\n",
    "                                       ports={1521:1521,5500:5500},\n",
    "                                       volumes={host_oradata: {'bind': container_oradata, 'mode': 'rw'}},\n",
    "                                       environment={'PATH':path,'ORACLE_SID': db_name, 'ORACLE_BASE': o_base,'TNS_ADMIN': t_admin}\n",
    "                                       )\n",
    "\n",
    "p_container.start()\n",
    "# Make all of the containers attributes available via Python Docker API\n",
    "p_container.reload()\n"
   ]
  },
  {
   "cell_type": "markdown",
   "metadata": {},
   "source": [
    "The next step uses DBCA and configures features like Automatic Memory Mangement, Oracle Managed Files and sets the size of the SGA and redo logs. It prints out the status of the creation during it's progression.  **NOTE :** This step typically takes 10 to 12 minutes."
   ]
  },
  {
   "cell_type": "code",
   "execution_count": 5,
   "metadata": {},
   "outputs": [
    {
     "name": "stdout",
     "output_type": "stream",
     "text": [
      "[WARNING] [DBT-06208] The 'SYS' password entered does not conform to the Oracle recommended standards.\n",
      "   CAUSE: \n",
      "a. Oracle recommends that the password entered should be at least 8 characters in length, contain at least 1 uppercase character, 1 lower case character and 1 digit [0-9].\n",
      "b.The password entered is a keyword that Oracle does not recommend to be used as password\n",
      "   ACTION: Specify a strong password. If required refer Oracle documentation for guidelines.\n",
      "[WARNING] [DBT-06208] The 'SYSTEM' password entered does not conform to the Oracle recommended standards.\n",
      "   CAUSE: \n",
      "a. Oracle recommends that the password entered should be at least 8 characters in length, contain at least 1 uppercase character, 1 lower case character and 1 digit [0-9].\n",
      "b.The password entered is a keyword that Oracle does not recommend to be used as password\n",
      "   ACTION: Specify a strong password. If required refer Oracle documentation for guidelines.\n",
      "[WARNING] [DBT-06208] The 'PDBADMIN' password entered does not conform to the Oracle recommended standards.\n",
      "   CAUSE: \n",
      "a. Oracle recommends that the password entered should be at least 8 characters in length, contain at least 1 uppercase character, 1 lower case character and 1 digit [0-9].\n",
      "b.The password entered is a keyword that Oracle does not recommend to be used as password\n",
      "   ACTION: Specify a strong password. If required refer Oracle documentation for guidelines.\n",
      "Prepare for db operation\n",
      "8% complete\n",
      "Copying database files\n",
      "31% complete\n",
      "Creating and starting Oracle instance\n",
      "32% complete\n",
      "36% complete\n",
      "40% complete\n",
      "43% complete\n",
      "46% complete\n",
      "Completing Database Creation\n",
      "51% complete\n",
      "53% complete\n",
      "\n",
      "54% complete\n",
      "\n",
      "Creating Pluggable Databases\n",
      "\n",
      "58% complete\n",
      "\n",
      "77% complete\n",
      "Executing Post Configuration Actions\n",
      "100% complete\n",
      "Database creation complete. For details check the logfiles at:\n",
      " /u01/app/oracle/cfgtoollogs/dbca/ORCL.\n",
      "Database Information:\n",
      "Global Database Name:ORCL\n",
      "System Identifier(SID):ORCL\n",
      "Look at the log file \"/u01/app/oracle/cfgtoollogs/dbca/ORCL/ORCL.log\" for further details.\n"
     ]
    }
   ],
   "source": [
    "statement = f'''dbca -silent \\\n",
    " -createDatabase \\\n",
    " -templateName General_Purpose.dbc \\\n",
    " -gdbname {db_name} -sid {db_name} -responseFile NO_VALUE \\\n",
    " -characterSet AL32UTF8 \\\n",
    " -sysPassword {sys_password} \\\n",
    " -systemPassword {sys_password} \\\n",
    " -createAsContainerDatabase true \\\n",
    " -numberOfPDBs 1 \\\n",
    " -pdbName {pdb_name} \\\n",
    " -pdbAdminPassword {sys_password} \\\n",
    " -databaseType MULTIPURPOSE \\\n",
    " -totalMemory {total_memory} \\\n",
    " -memoryMgmtType AUTO_SGA \\\n",
    " -recoveryAreaDestination \"{r_area}\" \\\n",
    " -storageType FS \\\n",
    " -useOMF true \\\n",
    " -datafileDestination \"{o_area}\" \\\n",
    " -redoLogFileSize {log_size} \\\n",
    " -emConfiguration NONE \\\n",
    " -ignorePreReqs\\\n",
    " '''\n",
    "\n",
    "containter_exec(p_container, statement)\n"
   ]
  },
  {
   "cell_type": "markdown",
   "metadata": {},
   "source": [
    "### Create Primary Database's Listener\n",
    "This step creates the database listener for the primary database. The `tnsnames.ora` will be over written in a later step if you choose to have a stand by configuration. **NOTE :** I could create a DNSMasq container or something similar and add container networking details to make the whole inter node communication simpler but it's a bit of an overkill and so we'll use IP addresses which are easily found."
   ]
  },
  {
   "cell_type": "code",
   "execution_count": 6,
   "metadata": {},
   "outputs": [],
   "source": [
    "p_ip_adress = p_container.attrs['NetworkSettings']['IPAddress']\n",
    "\n",
    "p_listener = f'''LISTENER=\n",
    "    (DESCRIPTION=\n",
    "        (ADDRESS = (PROTOCOL=tcp)(HOST={p_ip_adress})(PORT=1521))\n",
    "        (ADDRESS = (PROTOCOL = IPC)(KEY = EXTPROC1521))\n",
    "    )    \n",
    "\n",
    "SID_LIST_LISTENER=\n",
    "    (SID_LIST=\n",
    "        (SID_DESC=\n",
    "            (GLOBAL_DBNAME={db_name}_DGMGRL)\n",
    "            (ORACLE_HOME={o_home})\n",
    "            (SID_NAME={db_name})\n",
    "            (ENVS=\"TNS_ADMIN={t_admin}\")\n",
    "        )\n",
    "    ) \n",
    "'''\n",
    "copy_string_to_file(p_listener, f'{t_admin}/listener.ora', p_container)\n",
    "\n",
    "contents = '''NAMES.DIRECTORY_PATH= (TNSNAMES, EZCONNECT)'''\n",
    "\n",
    "copy_string_to_file(contents, f'{t_admin}/sqlnet.ora', p_container)\n",
    "\n",
    "contents = f'''\n",
    "ORCL = \n",
    "  (DESCRIPTION = \n",
    "    (ADDRESS = (PROTOCOL = TCP)(HOST = {p_ip_adress})(PORT=1521)) \n",
    "    (CONNECT_DATA = \n",
    "      (SERVER = DEDICATED) \n",
    "      (SID = {db_name}) \n",
    "    ) \n",
    "  ) \n",
    "'''\n",
    "copy_string_to_file(contents, f'{t_admin}/tnsnames.ora', p_container)"
   ]
  },
  {
   "cell_type": "markdown",
   "metadata": {},
   "source": [
    "And start the listener"
   ]
  },
  {
   "cell_type": "code",
   "execution_count": 7,
   "metadata": {},
   "outputs": [
    {
     "name": "stdout",
     "output_type": "stream",
     "text": [
      "LSNRCTL for Linux: Version 18.0.0.0.0 - Production on 25-MAR-2019 17:05:35\n",
      "\n",
      "Copyright (c) 1991, 2018, Oracle.  All rights reserved.\n",
      "Starting /u01/app/oracle/product/18.0.0/dbhome_1/bin/tnslsnr: please wait...\n",
      "TNSLSNR for Linux: Version 18.0.0.0.0 - Production\n",
      "System parameter file is /u01/app/oracle/oradata/dbconfig/listener.ora\n",
      "Log messages written to /u01/app/oracle/diag/tnslsnr/oracleprimary/listener/alert/log.xml\n",
      "Listening on: (DESCRIPTION=(ADDRESS=(PROTOCOL=tcp)(HOST=172.17.0.2)(PORT=1521)))\n",
      "Listening on: (DESCRIPTION=(ADDRESS=(PROTOCOL=ipc)(KEY=EXTPROC1521)))\n",
      "\n",
      "Connecting to (DESCRIPTION=(ADDRESS=(PROTOCOL=tcp)(HOST=172.17.0.2)(PORT=1521)))\n",
      "STATUS of the LISTENER\n",
      "------------------------\n",
      "Alias                     LISTENER\n",
      "Version                   TNSLSNR for Linux: Version 18.0.0.0.0 - Production\n",
      "Start Date                25-MAR-2019 17:05:35\n",
      "Uptime                    0 days 0 hr. 0 min. 0 sec\n",
      "Trace Level               off\n",
      "Security                  ON: Local OS Authentication\n",
      "SNMP                      OFF\n",
      "Listener Parameter File   /u01/app/oracle/oradata/dbconfig/listener.ora\n",
      "Listener Log File         /u01/app/oracle/diag/tnslsnr/oracleprimary/listener/alert/log.xml\n",
      "Listening Endpoints Summary...\n",
      "  (DESCRIPTION=(ADDRESS=(PROTOCOL=tcp)(HOST=172.17.0.2)(PORT=1521)))\n",
      "  (DESCRIPTION=(ADDRESS=(PROTOCOL=ipc)(KEY=EXTPROC1521)))\n",
      "Services Summary...\n",
      "Service \"ORCL_DGMGRL\" has 1 instance(s).\n",
      "  Instance \"ORCL\", status UNKNOWN, has 1 handler(s) for this service...\n",
      "The command completed successfully\n"
     ]
    }
   ],
   "source": [
    "containter_exec(p_container, 'lsnrctl start')"
   ]
  },
  {
   "cell_type": "markdown",
   "metadata": {},
   "source": [
    "At this stage you should have a fully functioning Oracle Database. In theory there's no need to go any further if thats all you want."
   ]
  },
  {
   "cell_type": "markdown",
   "metadata": {},
   "source": [
    "## Create Stand By Container\n",
    "This step creates another container to run the standby databases. It should be pretty much instant. **NOTE :** You'll only need to run the rest of the code from here if you need a standby database."
   ]
  },
  {
   "cell_type": "code",
   "execution_count": 8,
   "metadata": {},
   "outputs": [],
   "source": [
    "sb_container = client.containers.create(image_name,\n",
    "                                       hostname=sb_host_name,\n",
    "                                       command=\"/bin/bash\",\n",
    "                                       tty=True,\n",
    "                                       stdin_open=True,\n",
    "                                       auto_remove=False,\n",
    "                                       name=sb_host_name,\n",
    "                                       shm_size='3G',\n",
    "                                       ports={1521:1522,5500:5501},\n",
    "                                       volumes={sb_host_oradata: {'bind': container_oradata, 'mode': 'rw'}},\n",
    "                                       environment={'PATH':path,'ORACLE_SID':db_name,'ORACLE_BASE':o_base,'TNS_ADMIN':t_admin}\n",
    "                                       )\n",
    "sb_container.start()\n",
    "# Make all of the containers attributes available via Python Docker API\n",
    "sb_container.reload()\n"
   ]
  },
  {
   "cell_type": "markdown",
   "metadata": {},
   "source": [
    "Display the running containers."
   ]
  },
  {
   "cell_type": "code",
   "execution_count": 9,
   "metadata": {},
   "outputs": [
    {
     "data": {
      "text/html": [
       "<table>\n",
       "    <tr>\n",
       "        <th>Name</th>\n",
       "        <th>Short id</th>\n",
       "        <th>Status</th>\n",
       "        <th>IP Address</th>\n",
       "    </tr>\n",
       "    <tr>\n",
       "        <td>oraclestby</td>\n",
       "        <td>90e777d67f</td>\n",
       "        <td>running</td>\n",
       "        <td>172.17.0.3</td>\n",
       "    </tr>\n",
       "    <tr>\n",
       "        <td>oracleprimary</td>\n",
       "        <td>51fb562d84</td>\n",
       "        <td>running</td>\n",
       "        <td>172.17.0.2</td>\n",
       "    </tr>\n",
       "</table>"
      ],
      "text/plain": [
       "<IPython.core.display.HTML object>"
      ]
     },
     "metadata": {},
     "output_type": "display_data"
    }
   ],
   "source": [
    "list_containers(client)"
   ]
  },
  {
   "cell_type": "markdown",
   "metadata": {},
   "source": [
    "### Configure the Standby Database"
   ]
  },
  {
   "cell_type": "markdown",
   "metadata": {},
   "source": [
    "Create some additional directories on the standby so they are consistent with the primary."
   ]
  },
  {
   "cell_type": "code",
   "execution_count": 10,
   "metadata": {},
   "outputs": [],
   "source": [
    "containter_exec(sb_container, f'mkdir -p {o_area}/{db_name}')\n",
    "containter_exec(sb_container, f'mkdir -p {t_admin}')\n",
    "containter_exec(sb_container, f'mkdir -p {r_area}/{db_name}')\n",
    "containter_exec(sb_container, f'mkdir -p {a_area}')"
   ]
  },
  {
   "cell_type": "markdown",
   "metadata": {},
   "source": [
    "### Create Standby Database's Listener\n",
    "Create the standby listenrs network configuration and then start the listener. **NOTE :** We'll be overwriting the primary databases `tnsnames.ora` file in this step."
   ]
  },
  {
   "cell_type": "code",
   "execution_count": 11,
   "metadata": {},
   "outputs": [],
   "source": [
    "sb_ip_adress = sb_container.attrs['NetworkSettings']['IPAddress']\n",
    "\n",
    "contents = f'''\n",
    "ORCL = \n",
    "  (DESCRIPTION = \n",
    "    (ADDRESS = (PROTOCOL = TCP)(HOST = {p_ip_adress})(PORT=1521)) \n",
    "    (CONNECT_DATA = \n",
    "      (SERVER = DEDICATED) \n",
    "      (SID = {db_name}) \n",
    "    ) \n",
    "  ) \n",
    "\n",
    "ORCL_STBY =  \n",
    "  (DESCRIPTION = \n",
    "    (ADDRESS = (PROTOCOL = TCP)(HOST = {sb_ip_adress})(PORT=1521)) \n",
    "    (CONNECT_DATA = \n",
    "      (SERVER = DEDICATED) \n",
    "      (SID = {db_name}) \n",
    "    ) \n",
    "  ) \n",
    "'''\n",
    "\n",
    "copy_string_to_file(contents, f'{t_admin}/tnsnames.ora', p_container)\n",
    "copy_string_to_file(contents, f'{t_admin}/tnsnames.ora', sb_container)\n",
    "\n",
    "sb_listener = f'''LISTENER=\n",
    "    (DESCRIPTION=\n",
    "        (ADDRESS = (PROTOCOL=tcp)(HOST={sb_ip_adress})(PORT =1521))\n",
    "        (ADDRESS = (PROTOCOL = IPC)(KEY = EXTPROC1521))\n",
    "    )    \n",
    "\n",
    "SID_LIST_LISTENER=\n",
    "    (SID_LIST=\n",
    "        (SID_DESC=\n",
    "            (GLOBAL_DBNAME={stby_name}_DGMGRL)\n",
    "            (ORACLE_HOME={o_home})\n",
    "            (SID_NAME={db_name})\n",
    "            (ENVS=\"TNS_ADMIN={t_admin}\")\n",
    "        )\n",
    "    ) \n",
    "'''\n",
    "copy_string_to_file(sb_listener, f'{t_admin}/listener.ora', sb_container)\n",
    "\n",
    "contents = '''NAMES.DIRECTORY_PATH= (TNSNAMES, EZCONNECT)'''\n",
    "\n",
    "copy_string_to_file(contents, f'{t_admin}/sqlnet.ora', sb_container)"
   ]
  },
  {
   "cell_type": "markdown",
   "metadata": {},
   "source": [
    "And start the listener"
   ]
  },
  {
   "cell_type": "code",
   "execution_count": 12,
   "metadata": {},
   "outputs": [
    {
     "name": "stdout",
     "output_type": "stream",
     "text": [
      "LSNRCTL for Linux: Version 18.0.0.0.0 - Production on 25-MAR-2019 17:08:51\n",
      "\n",
      "Copyright (c) 1991, 2018, Oracle.  All rights reserved.\n",
      "Starting /u01/app/oracle/product/18.0.0/dbhome_1/bin/tnslsnr: please wait...\n",
      "TNSLSNR for Linux: Version 18.0.0.0.0 - Production\n",
      "System parameter file is /u01/app/oracle/oradata/dbconfig/listener.ora\n",
      "Log messages written to /u01/app/oracle/diag/tnslsnr/oraclestby/listener/alert/log.xml\n",
      "Listening on: (DESCRIPTION=(ADDRESS=(PROTOCOL=tcp)(HOST=172.17.0.3)(PORT=1521)))\n",
      "Listening on: (DESCRIPTION=(ADDRESS=(PROTOCOL=ipc)(KEY=EXTPROC1521)))\n",
      "\n",
      "Connecting to (DESCRIPTION=(ADDRESS=(PROTOCOL=tcp)(HOST=172.17.0.3)(PORT=1521)))\n",
      "STATUS of the LISTENER\n",
      "------------------------\n",
      "Alias                     LISTENER\n",
      "Version                   TNSLSNR for Linux: Version 18.0.0.0.0 - Production\n",
      "Start Date                25-MAR-2019 17:08:51\n",
      "Uptime                    0 days 0 hr. 0 min. 0 sec\n",
      "Trace Level               off\n",
      "Security                  ON: Local OS Authentication\n",
      "SNMP                      OFF\n",
      "Listener Parameter File   /u01/app/oracle/oradata/dbconfig/listener.ora\n",
      "Listener Log File         /u01/app/oracle/diag/tnslsnr/oraclestby/listener/alert/log.xml\n",
      "Listening Endpoints Summary...\n",
      "  (DESCRIPTION=(ADDRESS=(PROTOCOL=tcp)(HOST=172.17.0.3)(PORT=1521)))\n",
      "  (DESCRIPTION=(ADDRESS=(PROTOCOL=ipc)(KEY=EXTPROC1521)))\n",
      "Services Summary...\n",
      "Service \"ORCL_STBY_DGMGRL\" has 1 instance(s).\n",
      "  Instance \"ORCL\", status UNKNOWN, has 1 handler(s) for this service...\n",
      "The command completed successfully\n"
     ]
    }
   ],
   "source": [
    "containter_exec(sb_container, 'lsnrctl start')"
   ]
  },
  {
   "cell_type": "markdown",
   "metadata": {},
   "source": [
    "### Configure the servers for Data Guard\n",
    "It might be necessary to pause for a few seconds before moving onto the next step to allow the database to register with the listener...\n",
    "\n",
    "The next step is to connect to primary and standby servers and set various parameters and configuration to enable us to run Data Guard.\n",
    "\n",
    "First check the status of archive logging on the primary."
   ]
  },
  {
   "cell_type": "code",
   "execution_count": 13,
   "metadata": {},
   "outputs": [
    {
     "name": "stdout",
     "output_type": "stream",
     "text": [
      "Database is in NOARCHIVELOG mode\n"
     ]
    }
   ],
   "source": [
    "connection = cx_Oracle.connect(\"sys\",sys_password,f\"//localhost:1521/{db_name}\", mode=cx_Oracle.SYSDBA)\n",
    "cursor = connection.cursor();\n",
    "rs = cursor.execute(\"SELECT log_mode FROM v$database\")\n",
    "for row in rs:\n",
    "    print(f\"Database is in {row[0]} mode\")"
   ]
  },
  {
   "cell_type": "markdown",
   "metadata": {},
   "source": [
    "By default it will be in no archivelog mode so we need to shut it down and enable archive log mode"
   ]
  },
  {
   "cell_type": "code",
   "execution_count": 14,
   "metadata": {},
   "outputs": [
    {
     "name": "stdout",
     "output_type": "stream",
     "text": [
      "/bin/bash /tmp/set_archivelog.sql\n",
      "SQL*Plus: Release 18.0.0.0.0 - Production on Mon Mar 25 17:09:15 2019\n",
      "Version 18.3.0.0.0\n",
      "\n",
      "Copyright (c) 1982, 2018, Oracle.  All rights reserved.\n",
      "Connected to:\n",
      "Oracle Database 18c Enterprise Edition Release 18.0.0.0.0 - Production\n",
      "Version 18.3.0.0.0\n",
      "SQL> SQL>\n",
      "Database closed.\n",
      "Database dismounted.\n",
      "ORACLE instance shut down.\n",
      "SQL>\n",
      "ORACLE instance started.\n",
      "\n",
      "Total System Global Area 1610612704 bytes\n",
      "Fixed Size\t\t    8896480 bytes\n",
      "Variable Size\t\t  520093696 bytes\n",
      "Database Buffers\t 1073741824 bytes\n",
      "Redo Buffers\t\t    7880704 bytes\n",
      "Database mounted.\n",
      "SQL>\n",
      "Database altered.\n",
      "\n",
      "SQL>\n",
      "Database altered.\n",
      "\n",
      "SQL>\n",
      "Disconnected from Oracle Database 18c Enterprise Edition Release 18.0.0.0.0 - Production\n",
      "Version 18.3.0.0.0\n"
     ]
    }
   ],
   "source": [
    "contents = '''sqlplus / as sysdba << EOF\n",
    "SET ECHO ON;\n",
    "SHUTDOWN IMMEDIATE;\n",
    "STARTUP MOUNT;\n",
    "ALTER DATABASE ARCHIVELOG;\n",
    "ALTER DATABASE OPEN;\n",
    "EOF\n",
    "'''\n",
    "\n",
    "create_and_run_script(contents, '/tmp/set_archivelog.sql',  '/bin/bash /tmp/set_archivelog.sql', p_container)"
   ]
  },
  {
   "cell_type": "markdown",
   "metadata": {},
   "source": [
    "And check again"
   ]
  },
  {
   "cell_type": "code",
   "execution_count": 15,
   "metadata": {},
   "outputs": [
    {
     "name": "stdout",
     "output_type": "stream",
     "text": [
      "Database is in ARCHIVELOG mode\n"
     ]
    }
   ],
   "source": [
    "connection = cx_Oracle.connect(\"sys\",sys_password,f\"//localhost:1521/{db_name}\", mode=cx_Oracle.SYSDBA)\n",
    "cursor = connection.cursor();\n",
    "rs = cursor.execute(\"SELECT log_mode FROM v$database\")\n",
    "for row in rs:\n",
    "    print(f\"Database is in {row[0]} mode\")"
   ]
  },
  {
   "cell_type": "markdown",
   "metadata": {},
   "source": [
    "And then force a log switch"
   ]
  },
  {
   "cell_type": "code",
   "execution_count": 16,
   "metadata": {},
   "outputs": [],
   "source": [
    "cursor.execute(\"ALTER DATABASE FORCE LOGGING\")\n",
    "cursor.execute(\"ALTER SYSTEM SWITCH LOGFILE\")"
   ]
  },
  {
   "cell_type": "markdown",
   "metadata": {},
   "source": [
    "Add some Standby Logging Files"
   ]
  },
  {
   "cell_type": "code",
   "execution_count": 17,
   "metadata": {},
   "outputs": [],
   "source": [
    "cursor.execute(\"ALTER DATABASE ADD STANDBY LOGFILE SIZE 200M\")\n",
    "cursor.execute(\"ALTER DATABASE ADD STANDBY LOGFILE SIZE 200M\")\n",
    "cursor.execute(\"ALTER DATABASE ADD STANDBY LOGFILE SIZE 200M\")\n",
    "cursor.execute(\"ALTER DATABASE ADD STANDBY LOGFILE SIZE 200M\")\n"
   ]
  },
  {
   "cell_type": "markdown",
   "metadata": {},
   "source": [
    "Enable Flashback and standby file management"
   ]
  },
  {
   "cell_type": "code",
   "execution_count": 18,
   "metadata": {},
   "outputs": [],
   "source": [
    "cursor.execute(\"ALTER DATABASE FLASHBACK ON\")\n",
    "cursor.execute(\"ALTER SYSTEM SET STANDBY_FILE_MANAGEMENT=AUTO\")"
   ]
  },
  {
   "cell_type": "markdown",
   "metadata": {},
   "source": [
    "### Start an instance\n",
    "Create a temporary init.ora file to enable us to start an instance on the standby"
   ]
  },
  {
   "cell_type": "code",
   "execution_count": 19,
   "metadata": {},
   "outputs": [],
   "source": [
    "contents = f\"DB_NAME='{db_name}'\\n\"\n",
    "copy_string_to_file(contents, f'/tmp/init{db_name}.ora', sb_container)"
   ]
  },
  {
   "cell_type": "markdown",
   "metadata": {},
   "source": [
    "Create a password file on the standby with the same parameters as the primary"
   ]
  },
  {
   "cell_type": "code",
   "execution_count": 20,
   "metadata": {},
   "outputs": [],
   "source": [
    "containter_exec(sb_container, f'orapwd file=$ORACLE_HOME/dbs/orapw{db_name} password={sys_password} entries=10 format=12')"
   ]
  },
  {
   "cell_type": "markdown",
   "metadata": {},
   "source": [
    "And start up the standby instance"
   ]
  },
  {
   "cell_type": "code",
   "execution_count": 21,
   "metadata": {},
   "outputs": [
    {
     "name": "stdout",
     "output_type": "stream",
     "text": [
      "sqlplus / as sysdba @/tmp/start_db.sql\n",
      "SQL*Plus: Release 18.0.0.0.0 - Production on Mon Mar 25 17:11:01 2019\n",
      "Version 18.3.0.0.0\n",
      "\n",
      "Copyright (c) 1982, 2018, Oracle.  All rights reserved.\n",
      "Connected to an idle instance.\n",
      "ORACLE instance started.\n",
      "Total System Global Area  268433000 bytes\n",
      "Fixed Size\t\t    8656488 bytes\n",
      "Variable Size\t\t  201326592 bytes\n",
      "Database Buffers\t   50331648 bytes\n",
      "Redo Buffers\t\t    8118272 bytes\n",
      "Disconnected from Oracle Database 18c Enterprise Edition Release 18.0.0.0.0 - Production\n",
      "Version 18.3.0.0.0\n"
     ]
    }
   ],
   "source": [
    "contents = f'''STARTUP NOMOUNT PFILE='/tmp/init{db_name}.ora';\n",
    "EXIT;\n",
    "'''\n",
    "create_and_run_script(contents, '/tmp/start_db.sql', 'sqlplus / as sysdba @/tmp/start_db.sql', sb_container)"
   ]
  },
  {
   "cell_type": "markdown",
   "metadata": {},
   "source": [
    "### Duplicate the Primary database to the Standby database\n",
    "Duplicate the primary to the standby. For some reason the tnsnames isn't picked up on the primary/standby in the same location so an explicit connection string is needed."
   ]
  },
  {
   "cell_type": "code",
   "execution_count": 22,
   "metadata": {},
   "outputs": [
    {
     "name": "stdout",
     "output_type": "stream",
     "text": [
      "/bin/bash /tmp/duplicate.sh\n",
      "Recovery Manager: Release 18.0.0.0.0 - Production on Mon Mar 25 17:11:27 2019\n",
      "Version 18.3.0.0.0\n",
      "\n",
      "Copyright (c) 1982, 2018, Oracle and/or its affiliates.  All rights reserved.\n",
      "connected to target database: ORCL (DBID=1531636684)\n",
      "connected to auxiliary database: ORCL (not mounted)\n",
      "\n",
      "RMAN>\n",
      "2>\n",
      "3> 4>\n",
      "5> 6>\n",
      "7>\n",
      "\n",
      "Starting Duplicate Db at 25-MAR-19\n",
      "using target database control file instead of recovery catalog\n",
      "allocated channel: ORA_AUX_DISK_1\n",
      "channel ORA_AUX_DISK_1: SID=20 device type=DISK\n",
      "current log archived\n",
      "\n",
      "contents of Memory Script:\n",
      "{\n",
      "backup as copy reuse\n",
      "passwordfile auxiliary format  '/u01/app/oracle/product/18.0.0/dbhome_1/dbs/orapwORCL'   ;\n",
      "restore clone from service  'ORCL' spfile to\n",
      "'/u01/app/oracle/product/18.0.0/dbhome_1/dbs/spfileORCL.ora';\n",
      "sql clone \"alter system set spfile= ''/u01/app/oracle/product/18.0.0/dbhome_1/dbs/spfileORCL.ora''\";\n",
      "}\n",
      "executing Memory Script\n",
      "\n",
      "Starting backup at 25-MAR-19\n",
      "allocated channel: ORA_DISK_1\n",
      "channel ORA_DISK_1: SID=272 device type=DISK\n",
      "Finished backup at 25-MAR-19\n",
      "\n",
      "Starting restore at 25-MAR-19\n",
      "using channel ORA_AUX_DISK_1\n",
      "\n",
      "channel ORA_AUX_DISK_1: starting datafile backup set restore\n",
      "channel ORA_AUX_DISK_1: using network backup set from service ORCL\n",
      "channel ORA_AUX_DISK_1: restoring SPFILE\n",
      "output file name=/u01/app/oracle/product/18.0.0/dbhome_1/dbs/spfileORCL.ora\n",
      "channel ORA_AUX_DISK_1: restore complete, elapsed time: 00:00:01\n",
      "Finished restore at 25-MAR-19\n",
      "\n",
      "sql statement: alter system set spfile= ''/u01/app/oracle/product/18.0.0/dbhome_1/dbs/spfileORCL.ora''\n",
      "\n",
      "contents of Memory Script:\n",
      "{\n",
      "sql clone \"alter system set  db_unique_name =\n",
      "''ORCL_STBY'' comment=\n",
      "''Is standby'' scope=spfile\";\n",
      "shutdown clone immediate;\n",
      "startup clone nomount;\n",
      "}\n",
      "executing Memory Script\n",
      "\n",
      "sql statement: alter system set  db_unique_name =  ''ORCL_STBY'' comment= ''Is standby'' scope=spfile\n",
      "\n",
      "Oracle instance shut down\n",
      "\n",
      "connected to auxiliary database (not started)\n",
      "Oracle instance started\n",
      "Total System Global Area    1610612704 bytes\n",
      "Fixed Size                     8896480 bytes\n",
      "Variable Size                520093696 bytes\n",
      "Database Buffers            1073741824 bytes\n",
      "Redo Buffers                   7880704 bytes\n",
      "\n",
      "contents of Memory Script:\n",
      "{\n",
      "sql clone \"alter system set  control_files =\n",
      "''/u01/app/oracle/oradata/ORCL/controlfile/o1_mf_g9l1td8d_.ctl'', ''/u01/app/oracle/oradata/recovery_area/ORCL/controlfile/o1_mf_g9l1tdc9_.ctl'' comment=\n",
      "''Set by RMAN'' scope=spfile\";\n",
      "restore clone from service  'ORCL' standby controlfile;\n",
      "}\n",
      "executing Memory Script\n",
      "\n",
      "sql statement: alter system set  control_files =   ''/u01/app/oracle/oradata/ORCL/controlfile/o1_mf_g9l1td8d_.ctl'', ''/u01/app/oracle/oradata/recovery_area/ORCL/controlfile/o1_mf_g9l1tdc9_.ctl'' comment= ''Set by RMAN'' scope=spfile\n",
      "\n",
      "Starting restore at 25-MAR-19\n",
      "allocated channel: ORA_AUX_DISK_1\n",
      "channel ORA_AUX_DISK_1: SID=237 device type=DISK\n",
      "\n",
      "channel ORA_AUX_DISK_1: starting datafile backup set restore\n",
      "channel ORA_AUX_DISK_1: using network backup set from service ORCL\n",
      "channel ORA_AUX_DISK_1: restoring control file\n",
      "channel ORA_AUX_DISK_1: restore complete, elapsed time: 00:00:02\n",
      "output file name=/u01/app/oracle/oradata/ORCL/controlfile/o1_mf_g9l1td8d_.ctl\n",
      "output file name=/u01/app/oracle/oradata/recovery_area/ORCL/controlfile/o1_mf_g9l1tdc9_.ctl\n",
      "Finished restore at 25-MAR-19\n",
      "\n",
      "contents of Memory Script:\n",
      "{\n",
      "sql clone 'alter database mount standby database';\n",
      "}\n",
      "executing Memory Script\n",
      "\n",
      "sql statement: alter database mount standby database\n",
      "\n",
      "contents of Memory Script:\n",
      "{\n",
      "set newname for clone tempfile  1 to new;\n",
      "set newname for clone tempfile  2 to new;\n",
      "set newname for clone tempfile  3 to new;\n",
      "switch clone tempfile all;\n",
      "set newname for clone datafile  1 to new;\n",
      "set newname for clone datafile  3 to new;\n",
      "set newname for clone datafile  4 to new;\n",
      "set newname for clone datafile  5 to new;\n",
      "set newname for clone datafile  6 to new;\n",
      "set newname for clone datafile  7 to new;\n",
      "set newname for clone datafile  8 to new;\n",
      "set newname for clone datafile  9 to new;\n",
      "set newname for clone datafile  10 to new;\n",
      "set newname for clone datafile  11 to new;\n",
      "set newname for clone datafile  12 to new;\n",
      "restore\n",
      "from  nonsparse   from service\n",
      "'ORCL'   clone database\n",
      ";\n",
      "sql 'alter system archive log current';\n",
      "}\n",
      "executing Memory Script\n",
      "\n",
      "executing command: SET NEWNAME\n",
      "\n",
      "executing command: SET NEWNAME\n",
      "\n",
      "executing command: SET NEWNAME\n",
      "\n",
      "renamed tempfile 1 to /u01/app/oracle/oradata/ORCL_STBY/datafile/o1_mf_temp_%u_.tmp in control file\n",
      "renamed tempfile 2 to /u01/app/oracle/oradata/ORCL_STBY/84EF17F2B96C04AFE053020011AC2503/datafile/o1_mf_temp_%u_.tmp in control file\n",
      "renamed tempfile 3 to /u01/app/oracle/oradata/ORCL_STBY/84EF33380AA70940E053020011AC3F99/datafile/o1_mf_temp_%u_.tmp in control file\n",
      "\n",
      "executing command: SET NEWNAME\n",
      "\n",
      "executing command: SET NEWNAME\n",
      "\n",
      "executing command: SET NEWNAME\n",
      "\n",
      "executing command: SET NEWNAME\n",
      "\n",
      "executing command: SET NEWNAME\n",
      "\n",
      "executing command: SET NEWNAME\n",
      "\n",
      "executing command: SET NEWNAME\n",
      "\n",
      "executing command: SET NEWNAME\n",
      "\n",
      "executing command: SET NEWNAME\n",
      "\n",
      "executing command: SET NEWNAME\n",
      "\n",
      "executing command: SET NEWNAME\n",
      "\n",
      "Starting restore at 25-MAR-19\n",
      "using channel ORA_AUX_DISK_1\n",
      "\n",
      "channel ORA_AUX_DISK_1: starting datafile backup set restore\n",
      "channel ORA_AUX_DISK_1: using network backup set from service ORCL\n",
      "channel ORA_AUX_DISK_1: specifying datafile(s) to restore from backup set\n",
      "channel ORA_AUX_DISK_1: restoring datafile 00001 to /u01/app/oracle/oradata/ORCL_STBY/datafile/o1_mf_system_%u_.dbf\n",
      "channel ORA_AUX_DISK_1: restore complete, elapsed time: 00:00:15\n",
      "channel ORA_AUX_DISK_1: starting datafile backup set restore\n",
      "channel ORA_AUX_DISK_1: using network backup set from service ORCL\n",
      "channel ORA_AUX_DISK_1: specifying datafile(s) to restore from backup set\n",
      "channel ORA_AUX_DISK_1: restoring datafile 00003 to /u01/app/oracle/oradata/ORCL_STBY/datafile/o1_mf_sysaux_%u_.dbf\n",
      "channel ORA_AUX_DISK_1: restore complete, elapsed time: 00:00:07\n",
      "channel ORA_AUX_DISK_1: starting datafile backup set restore\n",
      "channel ORA_AUX_DISK_1: using network backup set from service ORCL\n",
      "channel ORA_AUX_DISK_1: specifying datafile(s) to restore from backup set\n",
      "channel ORA_AUX_DISK_1: restoring datafile 00004 to /u01/app/oracle/oradata/ORCL_STBY/datafile/o1_mf_undotbs1_%u_.dbf\n",
      "channel ORA_AUX_DISK_1: restore complete, elapsed time: 00:00:07\n",
      "channel ORA_AUX_DISK_1: starting datafile backup set restore\n",
      "channel ORA_AUX_DISK_1: using network backup set from service ORCL\n",
      "channel ORA_AUX_DISK_1: specifying datafile(s) to restore from backup set\n",
      "channel ORA_AUX_DISK_1: restoring datafile 00005 to /u01/app/oracle/oradata/ORCL_STBY/84EF17F2B96C04AFE053020011AC2503/datafile/o1_mf_system_%u_.dbf\n",
      "channel ORA_AUX_DISK_1: restore complete, elapsed time: 00:00:03\n",
      "channel ORA_AUX_DISK_1: starting datafile backup set restore\n",
      "channel ORA_AUX_DISK_1: using network backup set from service ORCL\n",
      "channel ORA_AUX_DISK_1: specifying datafile(s) to restore from backup set\n",
      "channel ORA_AUX_DISK_1: restoring datafile 00006 to /u01/app/oracle/oradata/ORCL_STBY/84EF17F2B96C04AFE053020011AC2503/datafile/o1_mf_sysaux_%u_.dbf\n",
      "channel ORA_AUX_DISK_1: restore complete, elapsed time: 00:00:03\n",
      "channel ORA_AUX_DISK_1: starting datafile backup set restore\n",
      "channel ORA_AUX_DISK_1: using network backup set from service ORCL\n",
      "channel ORA_AUX_DISK_1: specifying datafile(s) to restore from backup set\n",
      "channel ORA_AUX_DISK_1: restoring datafile 00007 to /u01/app/oracle/oradata/ORCL_STBY/datafile/o1_mf_users_%u_.dbf\n",
      "channel ORA_AUX_DISK_1: restore complete, elapsed time: 00:00:01\n",
      "channel ORA_AUX_DISK_1: starting datafile backup set restore\n",
      "channel ORA_AUX_DISK_1: using network backup set from service ORCL\n",
      "channel ORA_AUX_DISK_1: specifying datafile(s) to restore from backup set\n",
      "channel ORA_AUX_DISK_1: restoring datafile 00008 to /u01/app/oracle/oradata/ORCL_STBY/84EF17F2B96C04AFE053020011AC2503/datafile/o1_mf_undotbs1_%u_.dbf\n",
      "channel ORA_AUX_DISK_1: restore complete, elapsed time: 00:00:01\n",
      "channel ORA_AUX_DISK_1: starting datafile backup set restore\n",
      "channel ORA_AUX_DISK_1: using network backup set from service ORCL\n",
      "channel ORA_AUX_DISK_1: specifying datafile(s) to restore from backup set\n",
      "channel ORA_AUX_DISK_1: restoring datafile 00009 to /u01/app/oracle/oradata/ORCL_STBY/84EF33380AA70940E053020011AC3F99/datafile/o1_mf_system_%u_.dbf\n",
      "channel ORA_AUX_DISK_1: restore complete, elapsed time: 00:00:04\n",
      "channel ORA_AUX_DISK_1: starting datafile backup set restore\n",
      "channel ORA_AUX_DISK_1: using network backup set from service ORCL\n",
      "channel ORA_AUX_DISK_1: specifying datafile(s) to restore from backup set\n",
      "channel ORA_AUX_DISK_1: restoring datafile 00010 to /u01/app/oracle/oradata/ORCL_STBY/84EF33380AA70940E053020011AC3F99/datafile/o1_mf_sysaux_%u_.dbf\n",
      "channel ORA_AUX_DISK_1: restore complete, elapsed time: 00:00:07\n",
      "channel ORA_AUX_DISK_1: starting datafile backup set restore\n",
      "channel ORA_AUX_DISK_1: using network backup set from service ORCL\n",
      "channel ORA_AUX_DISK_1: specifying datafile(s) to restore from backup set\n",
      "channel ORA_AUX_DISK_1: restoring datafile 00011 to /u01/app/oracle/oradata/ORCL_STBY/84EF33380AA70940E053020011AC3F99/datafile/o1_mf_undotbs1_%u_.dbf\n",
      "channel ORA_AUX_DISK_1: restore complete, elapsed time: 00:00:01\n",
      "channel ORA_AUX_DISK_1: starting datafile backup set restore\n",
      "channel ORA_AUX_DISK_1: using network backup set from service ORCL\n",
      "channel ORA_AUX_DISK_1: specifying datafile(s) to restore from backup set\n",
      "channel ORA_AUX_DISK_1: restoring datafile 00012 to /u01/app/oracle/oradata/ORCL_STBY/84EF33380AA70940E053020011AC3F99/datafile/o1_mf_users_%u_.dbf\n",
      "channel ORA_AUX_DISK_1: restore complete, elapsed time: 00:00:01\n",
      "Finished restore at 25-MAR-19\n",
      "\n",
      "sql statement: alter system archive log current\n",
      "current log archived\n",
      "\n",
      "contents of Memory Script:\n",
      "{\n",
      "restore clone force from service  'ORCL'\n",
      "archivelog from scn  1559935;\n",
      "switch clone datafile all;\n",
      "}\n",
      "executing Memory Script\n",
      "\n",
      "Starting restore at 25-MAR-19\n",
      "using channel ORA_AUX_DISK_1\n",
      "\n",
      "channel ORA_AUX_DISK_1: starting archived log restore to default destination\n",
      "channel ORA_AUX_DISK_1: using network backup set from service ORCL\n",
      "channel ORA_AUX_DISK_1: restoring archived log\n",
      "archived log thread=1 sequence=6\n",
      "channel ORA_AUX_DISK_1: restore complete, elapsed time: 00:00:01\n",
      "channel ORA_AUX_DISK_1: starting archived log restore to default destination\n",
      "channel ORA_AUX_DISK_1: using network backup set from service ORCL\n",
      "channel ORA_AUX_DISK_1: restoring archived log\n",
      "archived log thread=1 sequence=7\n",
      "channel ORA_AUX_DISK_1: restore complete, elapsed time: 00:00:01\n",
      "Finished restore at 25-MAR-19\n",
      "\n",
      "datafile 1 switched to datafile copy\n",
      "input datafile copy RECID=15 STAMP=1003857184 file name=/u01/app/oracle/oradata/ORCL_STBY/datafile/o1_mf_system_g9l2zcco_.dbf\n",
      "datafile 3 switched to datafile copy\n",
      "input datafile copy RECID=16 STAMP=1003857184 file name=/u01/app/oracle/oradata/ORCL_STBY/datafile/o1_mf_sysaux_g9l2zthm_.dbf\n",
      "datafile 4 switched to datafile copy\n",
      "input datafile copy RECID=17 STAMP=1003857184 file name=/u01/app/oracle/oradata/ORCL_STBY/datafile/o1_mf_undotbs1_g9l301pk_.dbf\n",
      "datafile 5 switched to datafile copy\n",
      "input datafile copy RECID=18 STAMP=1003857184 file name=/u01/app/oracle/oradata/ORCL_STBY/84EF17F2B96C04AFE053020011AC2503/datafile/o1_mf_system_g9l308n1_.dbf\n",
      "datafile 6 switched to datafile copy\n",
      "input datafile copy RECID=19 STAMP=1003857184 file name=/u01/app/oracle/oradata/ORCL_STBY/84EF17F2B96C04AFE053020011AC2503/datafile/o1_mf_sysaux_g9l30cpt_.dbf\n",
      "datafile 7 switched to datafile copy\n",
      "input datafile copy RECID=20 STAMP=1003857184 file name=/u01/app/oracle/oradata/ORCL_STBY/datafile/o1_mf_users_g9l30gtb_.dbf\n",
      "datafile 8 switched to datafile copy\n",
      "input datafile copy RECID=21 STAMP=1003857184 file name=/u01/app/oracle/oradata/ORCL_STBY/84EF17F2B96C04AFE053020011AC2503/datafile/o1_mf_undotbs1_g9l30hyf_.dbf\n",
      "datafile 9 switched to datafile copy\n",
      "input datafile copy RECID=22 STAMP=1003857184 file name=/u01/app/oracle/oradata/ORCL_STBY/84EF33380AA70940E053020011AC3F99/datafile/o1_mf_system_g9l30k2x_.dbf\n",
      "datafile 10 switched to datafile copy\n",
      "input datafile copy RECID=23 STAMP=1003857184 file name=/u01/app/oracle/oradata/ORCL_STBY/84EF33380AA70940E053020011AC3F99/datafile/o1_mf_sysaux_g9l30n5o_.dbf\n",
      "datafile 11 switched to datafile copy\n",
      "input datafile copy RECID=24 STAMP=1003857184 file name=/u01/app/oracle/oradata/ORCL_STBY/84EF33380AA70940E053020011AC3F99/datafile/o1_mf_undotbs1_g9l30v7k_.dbf\n",
      "datafile 12 switched to datafile copy\n",
      "input datafile copy RECID=25 STAMP=1003857184 file name=/u01/app/oracle/oradata/ORCL_STBY/84EF33380AA70940E053020011AC3F99/datafile/o1_mf_users_g9l30w9r_.dbf\n",
      "\n",
      "contents of Memory Script:\n",
      "{\n",
      "set until scn  1560091;\n",
      "recover\n",
      "standby\n",
      "clone database\n",
      "delete archivelog\n",
      ";\n",
      "}\n",
      "executing Memory Script\n",
      "\n",
      "executing command: SET until clause\n",
      "\n",
      "Starting recover at 25-MAR-19\n",
      "using channel ORA_AUX_DISK_1\n",
      "\n",
      "starting media recovery\n",
      "\n",
      "archived log for thread 1 with sequence 6 is already on disk as file /u01/app/oracle/oradata/recovery_area/ORCL_STBY/archivelog/2019_03_25/o1_mf_1_6_g9l30xtn_.arc\n",
      "archived log for thread 1 with sequence 7 is already on disk as file /u01/app/oracle/oradata/recovery_area/ORCL_STBY/archivelog/2019_03_25/o1_mf_1_7_g9l30yxy_.arc\n",
      "archived log file name=/u01/app/oracle/oradata/recovery_area/ORCL_STBY/archivelog/2019_03_25/o1_mf_1_6_g9l30xtn_.arc thread=1 sequence=6\n",
      "archived log file name=/u01/app/oracle/oradata/recovery_area/ORCL_STBY/archivelog/2019_03_25/o1_mf_1_7_g9l30yxy_.arc thread=1 sequence=7\n",
      "media recovery complete, elapsed time: 00:00:01\n",
      "Finished recover at 25-MAR-19\n",
      "\n",
      "contents of Memory Script:\n",
      "{\n",
      "delete clone force archivelog all;\n",
      "}\n",
      "executing Memory Script\n",
      "\n",
      "released channel: ORA_DISK_1\n",
      "released channel: ORA_AUX_DISK_1\n",
      "allocated channel: ORA_DISK_1\n",
      "channel ORA_DISK_1: SID=272 device type=DISK\n",
      "deleted archived log\n",
      "archived log file name=/u01/app/oracle/oradata/recovery_area/ORCL_STBY/archivelog/2019_03_25/o1_mf_1_6_g9l30xtn_.arc RECID=1 STAMP=1003857181\n",
      "deleted archived log\n",
      "archived log file name=/u01/app/oracle/oradata/recovery_area/ORCL_STBY/archivelog/2019_03_25/o1_mf_1_7_g9l30yxy_.arc RECID=2 STAMP=1003857182\n",
      "Deleted 2 objects\n",
      "\n",
      "Finished Duplicate Db at 25-MAR-19\n",
      "\n",
      "RMAN>\n",
      "\n",
      "Recovery Manager complete.\n"
     ]
    }
   ],
   "source": [
    "contents = f'''rman TARGET sys/{sys_password}@{db_name} AUXILIARY sys/{sys_password}@{stby_name} << EOF\n",
    "DUPLICATE TARGET DATABASE\n",
    "  FOR STANDBY\n",
    "  FROM ACTIVE DATABASE\n",
    "  DORECOVER\n",
    "  SPFILE\n",
    "    SET db_unique_name='{stby_name}' COMMENT 'Is standby'\n",
    "  NOFILENAMECHECK;\n",
    "EOF\n",
    "'''\n",
    "\n",
    "create_and_run_script(contents, '/tmp/duplicate.sh', \"/bin/bash /tmp/duplicate.sh\", sb_container)"
   ]
  },
  {
   "cell_type": "markdown",
   "metadata": {},
   "source": [
    "### Start the Data Guard Broker\n",
    "It's best practice to use Data Guard Broker and so we'll need to start it on both instances and then create a configuration."
   ]
  },
  {
   "cell_type": "code",
   "execution_count": 23,
   "metadata": {},
   "outputs": [],
   "source": [
    "cursor.execute(\"ALTER SYSTEM SET dg_broker_start=true\")\n",
    "\n",
    "sb_connection = cx_Oracle.connect(\"sys\",sys_password,f\"//localhost:1522/{stby_name}\", mode=cx_Oracle.SYSDBA)\n",
    "sb_cursor = sb_connection.cursor()\n",
    "sb_cursor.execute(\"ALTER SYSTEM SET dg_broker_start=true\")\n"
   ]
  },
  {
   "cell_type": "markdown",
   "metadata": {},
   "source": [
    "Create a configuration"
   ]
  },
  {
   "cell_type": "code",
   "execution_count": 24,
   "metadata": {},
   "outputs": [
    {
     "name": "stdout",
     "output_type": "stream",
     "text": [
      "/bin/bash /tmp/dgconfig.sh\n",
      "DGMGRL for Linux: Release 18.0.0.0.0 - Production on Mon Mar 25 17:13:53 2019\n",
      "Version 18.3.0.0.0\n",
      "\n",
      "Copyright (c) 1982, 2018, Oracle and/or its affiliates.  All rights reserved.\n",
      "Welcome to DGMGRL, type \"help\" for information.\n",
      "Connected to \"ORCL\"\n",
      "Connected as SYSDBA.\n",
      "DGMGRL>\n",
      "DGMGRL> CREATE CONFIGURATION orcl_stby_config AS PRIMARY DATABASE IS ORCL CONNECT IDENTIFIER IS ORCL;\n",
      "Configuration \"orcl_stby_config\" created with primary database \"orcl\"\n",
      "DGMGRL> EXIT;\n"
     ]
    }
   ],
   "source": [
    "contents = f'''export TNS_ADMIN={t_admin};\n",
    "dgmgrl sys/{sys_password}@{db_name} << EOF\n",
    "SET ECHO ON;\n",
    "CREATE CONFIGURATION orcl_stby_config AS PRIMARY DATABASE IS {db_name} CONNECT IDENTIFIER IS {db_name};\n",
    "EXIT;\n",
    "EOF\n",
    "'''\n",
    "\n",
    "create_and_run_script(contents, '/tmp/dgconfig.sh', \"/bin/bash /tmp/dgconfig.sh\", p_container)\n",
    "\n"
   ]
  },
  {
   "cell_type": "markdown",
   "metadata": {},
   "source": [
    "Add the standby"
   ]
  },
  {
   "cell_type": "code",
   "execution_count": 25,
   "metadata": {},
   "outputs": [
    {
     "name": "stdout",
     "output_type": "stream",
     "text": [
      "/bin/bash /tmp/dgconfig2.sh\n",
      "DGMGRL for Linux: Release 18.0.0.0.0 - Production on Mon Mar 25 17:14:05 2019\n",
      "Version 18.3.0.0.0\n",
      "\n",
      "Copyright (c) 1982, 2018, Oracle and/or its affiliates.  All rights reserved.\n",
      "Welcome to DGMGRL, type \"help\" for information.\n",
      "Connected to \"ORCL\"\n",
      "Connected as SYSDBA.\n",
      "DGMGRL>\n",
      "DGMGRL>\n",
      "ADD DATABASE ORCL_STBY AS CONNECT IDENTIFIER IS ORCL_STBY\n",
      "MAINTAINED AS PHYSICAL;\n",
      "Database \"orcl_stby\" added\n",
      "DGMGRL> EXIT;\n"
     ]
    }
   ],
   "source": [
    "contents = f'''export TNS_ADMIN={t_admin};\n",
    "dgmgrl sys/{sys_password}@{db_name} << EOF\n",
    "SET ECHO ON;\n",
    "ADD DATABASE {stby_name} AS CONNECT IDENTIFIER IS {stby_name} MAINTAINED AS PHYSICAL;\n",
    "EXIT;\n",
    "EOF\n",
    "'''\n",
    "\n",
    "create_and_run_script(contents, '/tmp/dgconfig2.sh', \"/bin/bash /tmp/dgconfig2.sh\", p_container)"
   ]
  },
  {
   "cell_type": "markdown",
   "metadata": {},
   "source": [
    "Enable the configuration"
   ]
  },
  {
   "cell_type": "code",
   "execution_count": 26,
   "metadata": {},
   "outputs": [
    {
     "name": "stdout",
     "output_type": "stream",
     "text": [
      "/bin/bash /tmp/dgconfig3.sh\n",
      "DGMGRL for Linux: Release 18.0.0.0.0 - Production on Mon Mar 25 17:14:17 2019\n",
      "Version 18.3.0.0.0\n",
      "\n",
      "Copyright (c) 1982, 2018, Oracle and/or its affiliates.  All rights reserved.\n",
      "Welcome to DGMGRL, type \"help\" for information.\n",
      "Connected to \"ORCL\"\n",
      "Connected as SYSDBA.\n",
      "DGMGRL>\n",
      "DGMGRL>\n",
      "E\n",
      "N\n",
      "A\n",
      "B\n",
      "L\n",
      "E\n",
      "\n",
      "C\n",
      "O\n",
      "N\n",
      "F\n",
      "I\n",
      "G\n",
      "U\n",
      "R\n",
      "A\n",
      "T\n",
      "I\n",
      "O\n",
      "N;\n",
      "Enabled.\n",
      "DGMGRL>\n",
      "EXIT;\n"
     ]
    }
   ],
   "source": [
    "contents = f'''export TNS_ADMIN={t_admin};\n",
    "dgmgrl sys/{sys_password}@{db_name} << EOF\n",
    "SET ECHO ON;\n",
    "ENABLE CONFIGURATION;\n",
    "EXIT;\n",
    "EOF\n",
    "'''\n",
    "\n",
    "create_and_run_script(contents, '/tmp/dgconfig3.sh', \"/bin/bash /tmp/dgconfig3.sh\", p_container)"
   ]
  },
  {
   "cell_type": "markdown",
   "metadata": {},
   "source": [
    "Display the configuration"
   ]
  },
  {
   "cell_type": "code",
   "execution_count": 27,
   "metadata": {},
   "outputs": [
    {
     "name": "stdout",
     "output_type": "stream",
     "text": [
      "/bin/bash /tmp/dgconfig4.sh\n",
      "DGMGRL for Linux: Release 18.0.0.0.0 - Production on Mon Mar 25 17:14:40 2019\n",
      "Version 18.3.0.0.0\n",
      "\n",
      "Copyright (c) 1982, 2018, Oracle and/or its affiliates.  All rights reserved.\n",
      "\n",
      "Welcome to DGMGRL, type \"help\" for information.\n",
      "Connected to \"ORCL\"\n",
      "Connected as SYSDBA.\n",
      "DGMGRL>\n",
      "DGMGRL>\n",
      "S\n",
      "H\n",
      "O\n",
      "W\n",
      "C\n",
      "O\n",
      "N\n",
      "F\n",
      "I\n",
      "G\n",
      "U\n",
      "R\n",
      "A\n",
      "T\n",
      "I\n",
      "O\n",
      "N\n",
      ";\n",
      "\n",
      "\n",
      "Configuration - orcl_stby_config\n",
      "\n",
      "Protection Mode:\n",
      "MaxPerformance\n",
      "\n",
      "\n",
      "Members:\n",
      "orcl      -\n",
      "Primary database\n",
      "\n",
      "orcl_stby -\n",
      "Physical standby database\n",
      "\n",
      "Warning: ORA-16854: apply lag could not be determined\n",
      "\n",
      "Fast-Start Failover:\n",
      "DISABLED\n",
      "\n",
      "Configuration Status:\n",
      "WARNING\n",
      "(\n",
      "status updated 7 seconds ago\n",
      ")\n",
      "\n",
      "\n",
      "DGMGRL>\n",
      "S\n",
      "H\n",
      "O\n",
      "W\n",
      "D\n",
      "A\n",
      "T\n",
      "A\n",
      "B\n",
      "A\n",
      "S\n",
      "E\n",
      "\n",
      "O\n",
      "R\n",
      "C\n",
      "L\n",
      ";\n",
      "\n",
      "Database - orcl\n",
      "\n",
      "Role:\n",
      "PRIMARY\n",
      "\n",
      "Intended State:\n",
      "TRANSPORT-ON\n",
      "\n",
      "\n",
      "Instance(s):\n",
      "ORCL\n",
      "\n",
      "\n",
      "Database Status:\n",
      "SUCCESS\n",
      "\n",
      "DGMGRL>\n",
      "S\n",
      "H\n",
      "O\n",
      "W\n",
      "\n",
      "D\n",
      "A\n",
      "T\n",
      "A\n",
      "B\n",
      "A\n",
      "S\n",
      "E\n",
      "O\n",
      "R\n",
      "CL\n",
      "_\n",
      "S\n",
      "T\n",
      "B\n",
      "Y\n",
      ";\n",
      "\n",
      "Database - orcl_stby\n",
      "\n",
      "Role:\n",
      "PHYSICAL STANDBY\n",
      "\n",
      "Intended State:\n",
      "APPLY-ON\n",
      "\n",
      "Transport Lag:\n",
      "0\n",
      "seconds\n",
      "(computed 2 seconds ago)\n",
      "\n",
      "Apply Lag:\n",
      "(unknown)\n",
      "\n",
      "Average Apply Rate:\n",
      "(unknown)\n",
      "\n",
      "Real Time Query:\n",
      "OFF\n",
      "\n",
      "\n",
      "Instance(s):\n",
      "ORCL\n",
      "\n",
      "\n",
      "\n",
      "Database Warning(s):\n",
      "ORA-16854: apply lag could not be determined\n",
      "\n",
      "Database Status:\n",
      "WARNING\n",
      "\n",
      "DGMGRL>\n",
      "DGMGRL>\n"
     ]
    }
   ],
   "source": [
    "contents = f'''export TNS_ADMIN={t_admin};\n",
    "dgmgrl sys/{sys_password}@{db_name} << EOF\n",
    "SET ECHO ON;\n",
    "SHOW CONFIGURATION;\n",
    "SHOW DATABASE {db_name};\n",
    "SHOW DATABASE {stby_name};\n",
    "EOF\n",
    "'''\n",
    "\n",
    "create_and_run_script(contents, '/tmp/dgconfig4.sh', \"/bin/bash /tmp/dgconfig4.sh\", p_container)"
   ]
  },
  {
   "cell_type": "markdown",
   "metadata": {},
   "source": [
    "### Start the Standby in managed recovery\n",
    "We now need to start the standby so it begins applying redo to keep it consistent with the primary."
   ]
  },
  {
   "cell_type": "code",
   "execution_count": 28,
   "metadata": {},
   "outputs": [
    {
     "name": "stdout",
     "output_type": "stream",
     "text": [
      "/bin/bash /tmp/convert_to_active.sh\n",
      "SQL*Plus: Release 18.0.0.0.0 - Production on Mon Mar 25 17:15:08 2019\n",
      "Version 18.3.0.0.0\n",
      "\n",
      "Copyright (c) 1982, 2018, Oracle.  All rights reserved.\n",
      "Connected to:\n",
      "Oracle Database 18c Enterprise Edition Release 18.0.0.0.0 - Production\n",
      "Version 18.3.0.0.0\n",
      "\n",
      "SQL> SQL>\n",
      "ORA-01109: database not open\n",
      "Database dismounted.\n",
      "ORACLE instance shut down.\n",
      "SQL>\n",
      "ORACLE instance started.\n",
      "Total System Global Area 1610612704 bytes\n",
      "Fixed Size\t\t    8896480 bytes\n",
      "Variable Size\t\t  520093696 bytes\n",
      "Database Buffers\t 1073741824 bytes\n",
      "Redo Buffers\t\t    7880704 bytes\n",
      "Database mounted.\n",
      "SQL>\n",
      "\n",
      "Database altered.\n",
      "\n",
      "SQL>\n",
      "Disconnected from Oracle Database 18c Enterprise Edition Release 18.0.0.0.0 - Production\n",
      "Version 18.3.0.0.0\n"
     ]
    }
   ],
   "source": [
    "contents='''sqlplus / as sysdba << EOF\n",
    "SET ECHO ON;\n",
    "SHUTDOWN IMMEDIATE;\n",
    "STARTUP MOUNT;\n",
    "ALTER DATABASE RECOVER MANAGED STANDBY DATABASE DISCONNECT FROM SESSION;\n",
    "EOF\n",
    "'''\n",
    "\n",
    "create_and_run_script(contents, '/tmp/convert_to_active.sh', \"/bin/bash /tmp/convert_to_active.sh\", sb_container)"
   ]
  },
  {
   "cell_type": "markdown",
   "metadata": {},
   "source": [
    "### Standby Database Creation Complete\n",
    "We now have a primary and standby database that we can begin testing with."
   ]
  },
  {
   "cell_type": "markdown",
   "metadata": {},
   "source": [
    "## Additional Steps\n",
    "\n",
    "At this point you should have a physical standby database that is running in maximum performance mode. This might be enough for the testing you want to carry out but there's a number of possible changes that you might want to consider.\n",
    "\n",
    "* Change the physical standby database to an Active Standby\n",
    "* Convert the current mode (Maximum Performance) to Maximum Protection or Maximum Availability \n",
    "* Configure the Oracle Database 19c Active Data Guard feature, DML Redirect\n",
    "\n",
    "I'll cover these in the following sections but they \"icing on the cake\" rather than required."
   ]
  },
  {
   "cell_type": "markdown",
   "metadata": {},
   "source": [
    "### Active Data Guard\n",
    "This is a relatively trivial change. We just need to alter the standby database to open readonly and then start managed recovery as before"
   ]
  },
  {
   "cell_type": "code",
   "execution_count": 29,
   "metadata": {},
   "outputs": [
    {
     "name": "stdout",
     "output_type": "stream",
     "text": [
      "/bin/bash /tmp/convert_to_active.sh\n",
      "SQL*Plus: Release 18.0.0.0.0 - Production on Mon Mar 25 17:16:16 2019\n",
      "Version 18.3.0.0.0\n",
      "\n",
      "Copyright (c) 1982, 2018, Oracle.  All rights reserved.\n",
      "Connected to:\n",
      "Oracle Database 18c Enterprise Edition Release 18.0.0.0.0 - Production\n",
      "Version 18.3.0.0.0\n",
      "SQL>\n",
      "SQL>\n",
      "ORA-01109: database not open\n",
      "Database dismounted.\n",
      "ORACLE instance shut down.\n",
      "SQL>\n",
      "ORACLE instance started.\n",
      "\n",
      "Total System Global Area 1610612704 bytes\n",
      "Fixed Size\t\t    8896480 bytes\n",
      "Variable Size\t\t  520093696 bytes\n",
      "Database Buffers\t 1073741824 bytes\n",
      "Redo Buffers\t\t    7880704 bytes\n",
      "Database mounted.\n",
      "SQL>\n",
      "Database altered.\n",
      "SQL>\n",
      "Database altered.\n",
      "\n",
      "SQL> Disconnected from Oracle Database 18c Enterprise Edition Release 18.0.0.0.0 - Production\n",
      "Version 18.3.0.0.0\n"
     ]
    }
   ],
   "source": [
    "contents='''sqlplus / as sysdba << EOF\n",
    "SET ECHO ON;\n",
    "SHUTDOWN IMMEDIATE;\n",
    "STARTUP MOUNT;\n",
    "ALTER DATABASE OPEN READ ONLY;\n",
    "ALTER DATABASE RECOVER MANAGED STANDBY DATABASE DISCONNECT FROM SESSION;\n",
    "EOF\n",
    "'''\n",
    "\n",
    "create_and_run_script(contents, '/tmp/convert_to_active.sh', \"/bin/bash /tmp/convert_to_active.sh\", sb_container)"
   ]
  },
  {
   "cell_type": "markdown",
   "metadata": {},
   "source": [
    "### Maximum Performance to Maximum Availability\n",
    "For this change we'll use the Database Guard Broker command line tool to make the change"
   ]
  },
  {
   "cell_type": "code",
   "execution_count": null,
   "metadata": {},
   "outputs": [],
   "source": [
    "contents = f'''\n",
    "dgmgrl sys/{sys_password}@{db_name} << EOF\n",
    "SET ECHO ON;\n",
    "SHOW CONFIGURATION;\n",
    "edit database {stby_name} set property logxptmode=SYNC;\n",
    "edit configuration set protection mode as maxavailability;\n",
    "SHOW CONFIGURATION;\n",
    "EOF\n",
    "'''\n",
    "\n",
    "create_and_run_script(contents, '/tmp/max_avail.sh', \"/bin/bash /tmp/max_avail.sh\", p_container)"
   ]
  },
  {
   "cell_type": "markdown",
   "metadata": {},
   "source": [
    "### Maximum Performance to Maximum Protection\n",
    "As before we'll use the Database Guard Broker command line tool to make the change. "
   ]
  },
  {
   "cell_type": "code",
   "execution_count": null,
   "metadata": {},
   "outputs": [],
   "source": [
    "contents = f'''\n",
    "dgmgrl sys/{sys_password}@{db_name} << EOF\n",
    "SET ECHO ON;\n",
    "SHOW CONFIGURATION;\n",
    "edit database {stby_name} set property logxptmode=SYNC;\n",
    "edit configuration set protection mode as maxprotection;\n",
    "SHOW CONFIGURATION;\n",
    "EOF\n",
    "'''\n",
    "\n",
    "create_and_run_script(contents, '/tmp/max_prot.sh', \"/bin/bash /tmp/max_prot.sh\", p_container)"
   ]
  },
  {
   "cell_type": "markdown",
   "metadata": {},
   "source": [
    "### Back to Max Perfromance\n",
    "We'll use Database Guard Broker to change us back to asynchronus mode."
   ]
  },
  {
   "cell_type": "code",
   "execution_count": null,
   "metadata": {},
   "outputs": [],
   "source": [
    "contents = f'''\n",
    "dgmgrl sys/{sys_password}@{db_name} << EOF\n",
    "SET ECHO ON;\n",
    "SHOW CONFIGURATION;\n",
    "edit configuration set protection mode as maxperformance;\n",
    "edit database {stby_name} set property logxptmode=ASYNC;\n",
    "SHOW CONFIGURATION;\n",
    "EOF\n",
    "'''\n",
    "\n",
    "create_and_run_script(contents, '/tmp/max_prot.sh', \"/bin/bash /tmp/max_prot.sh\", p_container)"
   ]
  },
  {
   "cell_type": "markdown",
   "metadata": {},
   "source": [
    "### Oracle Database 19c Acvtive Data Guard DML Redirect\n",
    "\n",
    "On Oracle Database 19c we can also enable DML redirect from the standby to the primary. I'll add this on the release of the Oracle Database 19c software for on premises."
   ]
  },
  {
   "cell_type": "code",
   "execution_count": null,
   "metadata": {},
   "outputs": [],
   "source": []
  }
 ],
 "metadata": {
  "kernelspec": {
   "display_name": "Python 3",
   "language": "python",
   "name": "python3"
  },
  "language_info": {
   "codemirror_mode": {
    "name": "ipython",
    "version": 3
   },
   "file_extension": ".py",
   "mimetype": "text/x-python",
   "name": "python",
   "nbconvert_exporter": "python",
   "pygments_lexer": "ipython3",
   "version": "3.6.4"
  }
 },
 "nbformat": 4,
 "nbformat_minor": 2
}
