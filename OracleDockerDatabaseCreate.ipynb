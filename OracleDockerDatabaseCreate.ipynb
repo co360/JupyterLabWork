{
 "cells": [
  {
   "cell_type": "markdown",
   "metadata": {},
   "source": [
    "## Docker Setup\n",
    "\n",
    "These Python (3.6) scripts walk through the creation of a database and standby server. The reason I've done this rather than just take the default configuration is that this approach gives me a lot more control over the build and enables me to change specifc steps. If you are just wanting to get the Oracle Database running inside of Docker I strongly suggest that you use the docker files and guides in the [Oracle Github repository](https://github.com/oracle/docker-images/tree/master/OracleDatabase/SingleInstance). The approach documented below is very much for someone who is interested in a high level of control over the various steps in the installation and configuration of the Oracle Database. This current version is build on top of Oracle's Internal GiaaS docker image but will be extended to support the public dockers images as well. It aims to build an Active Data Guard model with maximum performance but can be trivially changed to support any of the required models.\n",
    "\n",
    "It uses a mix of calls to the Docker Python API and Calls direct to the databases via cx_Oracle.\n",
    "\n",
    "The imports needed to setup up out Docker container to run Oracle and get a docker client handle"
   ]
  },
  {
   "cell_type": "code",
   "execution_count": 5,
   "metadata": {},
   "outputs": [],
   "source": [
    "import docker\n",
    "import humanize\n",
    "import os\n",
    "import tarfile\n",
    "from prettytable import PrettyTable\n",
    "import cx_Oracle\n",
    "from IPython.display import HTML, display\n",
    "import keyring\n",
    "from ipynb.fs.full.OracleDockerDatabaseFunctions import list_images,list_containers,copy_to,create_and_run_script,containter_exec,containter_root_exec,copy_string_to_file\n",
    "\n",
    "client = docker.from_env(timeout=600)"
   ]
  },
  {
   "cell_type": "code",
   "execution_count": 4,
   "metadata": {},
   "outputs": [
    {
     "data": {
      "text/html": [
       "<table>\n",
       "    <tr>\n",
       "        <th>Tag</th>\n",
       "        <th>id</th>\n",
       "        <th>Size</th>\n",
       "    </tr>\n",
       "    <tr>\n",
       "        <td>dominicgiles:db18.0.0</td>\n",
       "        <td>b4e9063e4d</td>\n",
       "        <td>10.8 GB</td>\n",
       "    </tr>\n",
       "    <tr>\n",
       "        <td>db18.0.0:latest</td>\n",
       "        <td>ab9b3eb4b6</td>\n",
       "        <td>942.8 MB</td>\n",
       "    </tr>\n",
       "    <tr>\n",
       "        <td></td>\n",
       "        <td>bf1b5daee4</td>\n",
       "        <td>318.0 MB</td>\n",
       "    </tr>\n",
       "    <tr>\n",
       "        <td>oraclelinux:7-slim</td>\n",
       "        <td>c3d8693881</td>\n",
       "        <td>117.3 MB</td>\n",
       "    </tr>\n",
       "    <tr>\n",
       "        <td>giaas.us.oracle.com:5001/dominic.giles/104213:db19000</td>\n",
       "        <td>808b7de5b5</td>\n",
       "        <td>7.8 GB</td>\n",
       "    </tr>\n",
       "    <tr>\n",
       "        <td>dbtools-docker.dockerhub-den.oraclecorp.com/oracle/sdw:18.4.0</td>\n",
       "        <td>af2d2f4838</td>\n",
       "        <td>1.8 GB</td>\n",
       "    </tr>\n",
       "    <tr>\n",
       "        <td>dbtools-docker.dockerhub-den.oraclecorp.com/oracle/database:18.3.0-ee</td>\n",
       "        <td>c9eae81d87</td>\n",
       "        <td>8.4 GB</td>\n",
       "    </tr>\n",
       "</table>"
      ],
      "text/plain": [
       "<IPython.core.display.HTML object>"
      ]
     },
     "metadata": {},
     "output_type": "display_data"
    }
   ],
   "source": [
    "list_images(client)"
   ]
  },
  {
   "cell_type": "markdown",
   "metadata": {},
   "source": [
    "### Configuration Parameters\n",
    "The following section contains the parameters for setting the configuration of the install. The following parameters `image_name`,`host_oradata`,`sb_host_oradata` need to be changed, although `sb_host_oradata` is only important if you are planning on installing a standby database."
   ]
  },
  {
   "cell_type": "code",
   "execution_count": 7,
   "metadata": {},
   "outputs": [],
   "source": [
    "# The following parameters are specific to your install and almost certainly need to be changed\n",
    "image_name = 'b4e9063e4d' # Taken from the id value above\n",
    "host_oradata = '/Users/dgiles/oradata18c' # The directory on the host where primary database will be persisted\n",
    "sb_host_oradata = '/Users/dgiles/oradatastby' # The direcotry on the host where the standby database will be persisted\n",
    "#\n",
    "# The rest are fairly generic and can be changed if needed\n",
    "oracle_version = '18.0.0'\n",
    "db_name = 'ORCL'\n",
    "stby_name = 'ORCL_STBY'\n",
    "sys_password =  keyring.get_password('docker','sys') # I'm just using keyring to hide my password but you can set it to a simple sting i.e. 'mypassword'\n",
    "pdb_name = 'soe'\n",
    "p_host_name = 'oracleprimary'\n",
    "sb_host_name = 'oraclestby'\n",
    "total_memory = 2048\n",
    "\n",
    "container_oradata = '/u01/app/oracle/oradata'\n",
    "o_base = '/u01/app/oracle'\n",
    "r_area = f'{o_base}/oradata/recovery_area'\n",
    "o_area = f'{o_base}/oradata/'\n",
    "a_area = f'{o_base}/admin/ORCL/adump'\n",
    "o_home = f'{o_base}/product/{oracle_version}/dbhome_1'\n",
    "t_admin = f'{o_base}/oradata/dbconfig'\n",
    "log_size = 200\n"
   ]
  },
  {
   "cell_type": "markdown",
   "metadata": {},
   "source": [
    "## Create Primary Database\n",
    "This code does the heavy lifting. It creates a container **oracleprimary** (unless you changed the paramter) running the Oracle Database.  The containers 1521 port is mapped onto the the hosts 1521 port. This means that to connect from the host, via a tool like sqlplus, all you'd need to do is `sqlplus soe/soe@//locahost/soe`."
   ]
  },
  {
   "cell_type": "code",
   "execution_count": 13,
   "metadata": {},
   "outputs": [],
   "source": [
    "path = f'{o_home}/bin:/usr/local/sbin:/usr/local/bin:/usr/sbin:/usr/bin:/sbin:/bin'\n",
    "\n",
    "p_container = client.containers.create(image_name,\n",
    "                                       command=\"/bin/bash\",\n",
    "                                       hostname=p_host_name,\n",
    "                                       tty=True,\n",
    "                                       stdin_open=True,\n",
    "                                       auto_remove=False,\n",
    "                                       name=p_host_name,\n",
    "                                       shm_size='3G',\n",
    "                                       # network_mode='host',\n",
    "                                       ports={1521:1521,5500:5500},\n",
    "                                       volumes={host_oradata: {'bind': container_oradata, 'mode': 'rw'}},\n",
    "                                       environment={'PATH':path,'ORACLE_SID': db_name, 'ORACLE_BASE': o_base,'TNS_ADMIN': t_admin}\n",
    "                                       )\n",
    "\n",
    "p_container.start()\n"
   ]
  },
  {
   "cell_type": "markdown",
   "metadata": {},
   "source": [
    "The next step uses DBCA and configures features like Automatic Memory Mangement, Oracle Managed Files and sets the size of the SGA and redo logs. It prints out the status of the creation during it's progression.  **NOTE :** This step typically takes 10 to 12 minutes."
   ]
  },
  {
   "cell_type": "code",
   "execution_count": 14,
   "metadata": {},
   "outputs": [
    {
     "name": "stdout",
     "output_type": "stream",
     "text": [
      "[WARNING] [DBT-06208] The 'SYS' password entered does not conform to the Oracle recommended standards.\n",
      "   CAUSE: \n",
      "a. Oracle recommends that the password entered should be at least 8 characters in length, contain at least 1 uppercase character, 1 lower case character and 1 digit [0-9].\n",
      "b.The password entered is a keyword that Oracle does not recommend to be used as password\n",
      "   ACTION: Specify a strong password. If required refer Oracle documentation for guidelines.\n",
      "[WARNING] [DBT-06208] The 'SYSTEM' password entered does not conform to the Oracle recommended standards.\n",
      "   CAUSE: \n",
      "a. Oracle recommends that the password entered should be at least 8 characters in length, contain at least 1 uppercase character, 1 lower case character and 1 digit [0-9].\n",
      "b.The password entered is a keyword that Oracle does not recommend to be used as password\n",
      "   ACTION: Specify a strong password. If required refer Oracle documentation for guidelines.\n",
      "[WARNING] [DBT-06208] The 'PDBADMIN' password entered does not conform to the Oracle recommended standards.\n",
      "   CAUSE: \n",
      "a. Oracle recommends that the password entered should be at least 8 characters in length, contain at least 1 uppercase character, 1 lower case character and 1 digit [0-9].\n",
      "b.The password entered is a keyword that Oracle does not recommend to be used as password\n",
      "   ACTION: Specify a strong password. If required refer Oracle documentation for guidelines.\n",
      "Prepare for db operation\n",
      "\n",
      "8% complete\n",
      "\n",
      "Copying database files\n",
      "\n",
      "31% complete\n",
      "Creating and starting Oracle instance\n",
      "\n",
      "32% complete\n",
      "36% complete\n",
      "\n",
      "40% complete\n",
      "\n",
      "43% complete\n",
      "\n",
      "46% complete\n",
      "\n",
      "Completing Database Creation\n",
      "\n",
      "51% complete\n",
      "53% complete\n",
      "54% complete\n",
      "\n",
      "Creating Pluggable Databases\n",
      "58% complete\n",
      "\n",
      "77% complete\n",
      "Executing Post Configuration Actions\n",
      "\n",
      "100% complete\n",
      "\n",
      "Database creation complete. For details check the logfiles at:\n",
      " /u01/app/oracle/cfgtoollogs/dbca/ORCL.\n",
      "Database Information:\n",
      "Global Database Name:ORCL\n",
      "System Identifier(SID):ORCL\n",
      "\n",
      "Look at the log file \"/u01/app/oracle/cfgtoollogs/dbca/ORCL/ORCL.log\" for further details.\n",
      "\n"
     ]
    }
   ],
   "source": [
    "statement = f'''dbca -silent \\\n",
    " -createDatabase \\\n",
    " -templateName General_Purpose.dbc \\\n",
    " -gdbname {db_name} -sid {db_name} -responseFile NO_VALUE \\\n",
    " -characterSet AL32UTF8 \\\n",
    " -sysPassword {sys_password} \\\n",
    " -systemPassword {sys_password} \\\n",
    " -createAsContainerDatabase true \\\n",
    " -numberOfPDBs 1 \\\n",
    " -pdbName {pdb_name} \\\n",
    " -pdbAdminPassword {sys_password} \\\n",
    " -databaseType MULTIPURPOSE \\\n",
    " -totalMemory {total_memory} \\\n",
    " -memoryMgmtType AUTO_SGA \\\n",
    " -recoveryAreaDestination \"{r_area}\" \\\n",
    " -storageType FS \\\n",
    " -useOMF true \\\n",
    " -datafileDestination \"{o_area}\" \\\n",
    " -redoLogFileSize {log_size} \\\n",
    " -emConfiguration NONE \\\n",
    " -ignorePreReqs\\\n",
    " '''\n",
    "\n",
    "containter_exec(p_container, statement)\n"
   ]
  },
  {
   "cell_type": "markdown",
   "metadata": {},
   "source": [
    "### Create Primary Database's Listener\n",
    "This step creates the database listener for the primary database. The `tnsnames.ora` will be over written in a later step if you choose to have a stand by configuration. **NOTE :** I could create a DNSMasq container or something similar and add container networking details to make the whole inter node communication simpler but it's a bit of an overkill and so we'll use IP addresses which are easily found."
   ]
  },
  {
   "cell_type": "code",
   "execution_count": 8,
   "metadata": {},
   "outputs": [],
   "source": [
    "p_ip_adress = p_container.attrs['NetworkSettings']['IPAddress']\n",
    "\n",
    "p_listener = f'''LISTENER=\n",
    "    (DESCRIPTION=\n",
    "        (ADDRESS = (PROTOCOL=tcp)(HOST={p_ip_adress})(PORT=1521))\n",
    "        (ADDRESS = (PROTOCOL = IPC)(KEY = EXTPROC1521))\n",
    "    )    \n",
    "\n",
    "SID_LIST_LISTENER=\n",
    "    (SID_LIST=\n",
    "        (SID_DESC=\n",
    "            (GLOBAL_DBNAME={db_name}_DGMGRL)\n",
    "            (ORACLE_HOME={o_home})\n",
    "            (SID_NAME={db_name})\n",
    "            (ENVS=\"TNS_ADMIN={t_admin}\")\n",
    "        )\n",
    "    ) \n",
    "'''\n",
    "copy_string_to_file(p_listener, f'{t_admin}/listener.ora', p_container)\n",
    "\n",
    "contents = '''NAMES.DIRECTORY_PATH= (TNSNAMES, EZCONNECT)'''\n",
    "\n",
    "copy_string_to_file(contents, f'{t_admin}/sqlnet.ora', p_container)\n",
    "\n",
    "contents = f'''\n",
    "ORCL = \n",
    "  (DESCRIPTION = \n",
    "    (ADDRESS = (PROTOCOL = TCP)(HOST = {p_ip_adress})(PORT=1521)) \n",
    "    (CONNECT_DATA = \n",
    "      (SERVER = DEDICATED) \n",
    "      (SID = {db_name}) \n",
    "    ) \n",
    "  ) \n",
    "'''\n",
    "copy_string_to_file(contents, f'{t_admin}/tnsnames.ora', p_container)"
   ]
  },
  {
   "cell_type": "markdown",
   "metadata": {},
   "source": [
    "And start the listener"
   ]
  },
  {
   "cell_type": "code",
   "execution_count": 9,
   "metadata": {},
   "outputs": [
    {
     "name": "stdout",
     "output_type": "stream",
     "text": [
      "LSNRCTL for Linux: Version 18.0.0.0.0 - Production on 14-MAR-2019 19:40:59\n",
      "\n",
      "Copyright (c) 1991, 2018, Oracle.  All rights reserved.\n",
      "Starting /u01/app/oracle/product/18.0.0/dbhome_1/bin/tnslsnr: please wait...\n",
      "TNSLSNR for Linux: Version 18.0.0.0.0 - Production\n",
      "System parameter file is /u01/app/oracle/oradata/dbconfig/listener.ora\n",
      "Log messages written to /u01/app/oracle/diag/tnslsnr/oracleprimary/listener/alert/log.xml\n",
      "Listening on: (DESCRIPTION=(ADDRESS=(PROTOCOL=tcp)(HOST=172.17.0.2)(PORT=1521)))\n",
      "Listening on: (DESCRIPTION=(ADDRESS=(PROTOCOL=ipc)(KEY=EXTPROC1521)))\n",
      "\n",
      "Connecting to (DESCRIPTION=(ADDRESS=(PROTOCOL=tcp)(HOST=172.17.0.2)(PORT=1521)))\n",
      "STATUS of the LISTENER\n",
      "------------------------\n",
      "Alias                     LISTENER\n",
      "Version                   TNSLSNR for Linux: Version 18.0.0.0.0 - Production\n",
      "Start Date                14-MAR-2019 19:40:59\n",
      "Uptime                    0 days 0 hr. 0 min. 0 sec\n",
      "Trace Level               off\n",
      "Security                  ON: Local OS Authentication\n",
      "SNMP                      OFF\n",
      "Listener Parameter File   /u01/app/oracle/oradata/dbconfig/listener.ora\n",
      "Listener Log File         /u01/app/oracle/diag/tnslsnr/oracleprimary/listener/alert/log.xml\n",
      "Listening Endpoints Summary...\n",
      "  (DESCRIPTION=(ADDRESS=(PROTOCOL=tcp)(HOST=172.17.0.2)(PORT=1521)))\n",
      "  (DESCRIPTION=(ADDRESS=(PROTOCOL=ipc)(KEY=EXTPROC1521)))\n",
      "Services Summary...\n",
      "Service \"ORCL_DGMGRL\" has 1 instance(s).\n",
      "  Instance \"ORCL\", status UNKNOWN, has 1 handler(s) for this service...\n",
      "The command completed successfully\n"
     ]
    }
   ],
   "source": [
    "containter_exec(p_container, 'lsnrctl start')"
   ]
  },
  {
   "cell_type": "markdown",
   "metadata": {},
   "source": [
    "At this stage you'll have a "
   ]
  },
  {
   "cell_type": "markdown",
   "metadata": {},
   "source": [
    "## Create Stand By Container\n",
    "This step creates another container to run the standby databases. It should be pretty much instant. **NOTE :** You'll only need to run the rest of the code from here if you need a standby database."
   ]
  },
  {
   "cell_type": "code",
   "execution_count": null,
   "metadata": {},
   "outputs": [],
   "source": [
    "sb_container = client.containers.create(image_name,\n",
    "                                       hostname=sb_host_name,\n",
    "                                       command=\"/bin/bash\",\n",
    "                                       tty=True,\n",
    "                                       stdin_open=True,\n",
    "                                       auto_remove=False,\n",
    "                                       name=sb_host_name,\n",
    "                                       shm_size='3G',\n",
    "                                       ports={1521:1522,5500:5501},\n",
    "                                       volumes={sb_host_oradata: {'bind': container_oradata, 'mode': 'rw'}},\n",
    "                                       environment={'PATH':path,'ORACLE_SID':db_name,'ORACLE_BASE':o_base,'TNS_ADMIN':t_admin}\n",
    "                                       )\n",
    "sb_container.start()\n"
   ]
  },
  {
   "cell_type": "markdown",
   "metadata": {},
   "source": [
    "Display the running containers."
   ]
  },
  {
   "cell_type": "code",
   "execution_count": null,
   "metadata": {},
   "outputs": [],
   "source": [
    "list_containers()"
   ]
  },
  {
   "cell_type": "markdown",
   "metadata": {},
   "source": [
    "### Configure the Standby Database"
   ]
  },
  {
   "cell_type": "markdown",
   "metadata": {},
   "source": [
    "Create some additional directories on the standby so they are consistent with the primary."
   ]
  },
  {
   "cell_type": "code",
   "execution_count": null,
   "metadata": {},
   "outputs": [],
   "source": [
    "containter_exec(sb_container, f'mkdir -p {o_area}/{db_name}')\n",
    "containter_exec(sb_container, f'mkdir -p {t_admin}')\n",
    "containter_exec(sb_container, f'mkdir -p {r_area}/{db_name}')\n",
    "containter_exec(sb_container, f'mkdir -p {a_area}')"
   ]
  },
  {
   "cell_type": "markdown",
   "metadata": {},
   "source": [
    "### Create Standby Database's Listener\n",
    "Create the standby listenrs network configuration and then start the listener. **NOTE :** We'll be overwriting the primary databases `tnsnames.ora` file in this step."
   ]
  },
  {
   "cell_type": "code",
   "execution_count": null,
   "metadata": {},
   "outputs": [],
   "source": [
    "sb_ip_adress = sb_container.attrs['NetworkSettings']['IPAddress']\n",
    "\n",
    "contents = f'''\n",
    "ORCL = \n",
    "  (DESCRIPTION = \n",
    "    (ADDRESS = (PROTOCOL = TCP)(HOST = {p_ip_adress})(PORT=1521)) \n",
    "    (CONNECT_DATA = \n",
    "      (SERVER = DEDICATED) \n",
    "      (SID = {db_name}) \n",
    "    ) \n",
    "  ) \n",
    "\n",
    "ORCL_STBY =  \n",
    "  (DESCRIPTION = \n",
    "    (ADDRESS = (PROTOCOL = TCP)(HOST = {sb_ip_adress})(PORT=1521)) \n",
    "    (CONNECT_DATA = \n",
    "      (SERVER = DEDICATED) \n",
    "      (SID = {db_name}) \n",
    "    ) \n",
    "  ) \n",
    "'''\n",
    "\n",
    "copy_string_to_file(contents, f'{t_admin}/tnsnames.ora', p_container)\n",
    "copy_string_to_file(contents, f'{t_admin}/tnsnames.ora', sb_container)\n",
    "\n",
    "sb_listener = f'''LISTENER=\n",
    "    (DESCRIPTION=\n",
    "        (ADDRESS = (PROTOCOL=tcp)(HOST={sb_ip_adress})(PORT =1521))\n",
    "        (ADDRESS = (PROTOCOL = IPC)(KEY = EXTPROC1521))\n",
    "    )    \n",
    "\n",
    "SID_LIST_LISTENER=\n",
    "    (SID_LIST=\n",
    "        (SID_DESC=\n",
    "            (GLOBAL_DBNAME={stby_name}_DGMGRL)\n",
    "            (ORACLE_HOME={o_home})\n",
    "            (SID_NAME={db_name})\n",
    "            (ENVS=\"TNS_ADMIN={t_admin}\")\n",
    "        )\n",
    "    ) \n",
    "'''\n",
    "copy_string_to_file(sb_listener, f'{t_admin}/listener.ora', sb_container)\n",
    "\n",
    "contents = '''NAMES.DIRECTORY_PATH= (TNSNAMES, EZCONNECT)'''\n",
    "\n",
    "copy_string_to_file(contents, f'{t_admin}/sqlnet.ora', sb_container)"
   ]
  },
  {
   "cell_type": "markdown",
   "metadata": {},
   "source": [
    "And start the listener"
   ]
  },
  {
   "cell_type": "code",
   "execution_count": null,
   "metadata": {},
   "outputs": [],
   "source": [
    "containter_exec(sb_container, 'lsnrctl start')"
   ]
  },
  {
   "cell_type": "markdown",
   "metadata": {},
   "source": [
    "### Configure the servers for Data Guard\n",
    "Connect to primary and standby servers and set various parameters and configuration to enable us to run Data Guard.\n",
    "\n",
    "First check the status of archive logging on the primary."
   ]
  },
  {
   "cell_type": "code",
   "execution_count": null,
   "metadata": {},
   "outputs": [],
   "source": [
    "connection = cx_Oracle.connect(\"sys\",sys_password,f\"//localhost:1521/{db_name}\", mode=cx_Oracle.SYSDBA)\n",
    "cursor = connection.cursor();\n",
    "rs = cursor.execute(\"SELECT log_mode FROM v$database\")\n",
    "for row in rs:\n",
    "    print(f\"Database is in {row[0]} mode\")"
   ]
  },
  {
   "cell_type": "markdown",
   "metadata": {},
   "source": [
    "By default it will be in no archivelog mode so we need to shut it down and enable archive log mode"
   ]
  },
  {
   "cell_type": "code",
   "execution_count": null,
   "metadata": {},
   "outputs": [],
   "source": [
    "contents = '''sqlplus / as sysdba << EOF\n",
    "SET ECHO ON;\n",
    "SHUTDOWN IMMEDIATE;\n",
    "STARTUP MOUNT;\n",
    "ALTER DATABASE ARCHIVELOG;\n",
    "ALTER DATABASE OPEN;\n",
    "EOF\n",
    "'''\n",
    "\n",
    "create_and_run_script(contents, '/tmp/set_archivelog.sql', '/tmp/set_archivelog.sql',  '/bin/bash /tmp/set_archivelog.sql', p_container)"
   ]
  },
  {
   "cell_type": "markdown",
   "metadata": {},
   "source": [
    "And check again"
   ]
  },
  {
   "cell_type": "code",
   "execution_count": null,
   "metadata": {},
   "outputs": [],
   "source": [
    "connection = cx_Oracle.connect(\"sys\",sys_password,f\"//localhost:1521/{db_name}\", mode=cx_Oracle.SYSDBA)\n",
    "cursor = connection.cursor();\n",
    "rs = cursor.execute(\"SELECT log_mode FROM v$database\")\n",
    "for row in rs:\n",
    "    print(f\"Database is in {row[0]} mode\")"
   ]
  },
  {
   "cell_type": "markdown",
   "metadata": {},
   "source": [
    "And then force a log switch"
   ]
  },
  {
   "cell_type": "code",
   "execution_count": null,
   "metadata": {},
   "outputs": [],
   "source": [
    "cursor.execute(\"ALTER DATABASE FORCE LOGGING\")\n",
    "cursor.execute(\"ALTER SYSTEM SWITCH LOGFILE\")"
   ]
  },
  {
   "cell_type": "markdown",
   "metadata": {},
   "source": [
    "Add some Standby Logging Files"
   ]
  },
  {
   "cell_type": "code",
   "execution_count": null,
   "metadata": {},
   "outputs": [],
   "source": [
    "cursor.execute(\"ALTER DATABASE ADD STANDBY LOGFILE SIZE 200M\")\n",
    "cursor.execute(\"ALTER DATABASE ADD STANDBY LOGFILE SIZE 200M\")\n",
    "cursor.execute(\"ALTER DATABASE ADD STANDBY LOGFILE SIZE 200M\")\n",
    "cursor.execute(\"ALTER DATABASE ADD STANDBY LOGFILE SIZE 200M\")\n"
   ]
  },
  {
   "cell_type": "markdown",
   "metadata": {},
   "source": [
    "Enable Flashback and standby file management"
   ]
  },
  {
   "cell_type": "code",
   "execution_count": null,
   "metadata": {},
   "outputs": [],
   "source": [
    "cursor.execute(\"ALTER DATABASE FLASHBACK ON\")\n",
    "cursor.execute(\"ALTER SYSTEM SET STANDBY_FILE_MANAGEMENT=AUTO\")"
   ]
  },
  {
   "cell_type": "markdown",
   "metadata": {},
   "source": [
    "### Start an instance\n",
    "Create a temporary init.ora file to enable us to start an instance on the standby"
   ]
  },
  {
   "cell_type": "code",
   "execution_count": null,
   "metadata": {},
   "outputs": [],
   "source": [
    "contents = f\"DB_NAME='{db_name}'\\n\"\n",
    "copy_string_to_file(contents, f'/tmp/init{db_name}.ora', sb_container)"
   ]
  },
  {
   "cell_type": "markdown",
   "metadata": {},
   "source": [
    "Create a password file on the standby with the same parameters as the primary"
   ]
  },
  {
   "cell_type": "code",
   "execution_count": null,
   "metadata": {},
   "outputs": [],
   "source": [
    "containter_exec(sb_container, f'orapwd file=$ORACLE_HOME/dbs/orapw{db_name} password={sys_password} entries=10 format=12')"
   ]
  },
  {
   "cell_type": "markdown",
   "metadata": {},
   "source": [
    "And start up the standby instance"
   ]
  },
  {
   "cell_type": "code",
   "execution_count": null,
   "metadata": {},
   "outputs": [],
   "source": [
    "contents = f'''STARTUP NOMOUNT PFILE='/tmp/init{db_name}.ora';\n",
    "EXIT;\n",
    "'''\n",
    "create_and_run_script(contents, '/tmp/start_db.sql', '/tmp/start_db.sql', 'sqlplus / as sysdba @/tmp/start_db.sql', sb_container)"
   ]
  },
  {
   "cell_type": "markdown",
   "metadata": {},
   "source": [
    "### Duplicate the Primary database to the Standby database\n",
    "Duplicate the primary to the standby. For some reason the tnsnames isn't picked up on the primary/standby in the same location so an explicit connection string is needed."
   ]
  },
  {
   "cell_type": "code",
   "execution_count": null,
   "metadata": {},
   "outputs": [],
   "source": [
    "contents = f'''rman TARGET sys/{sys_password}@{db_name} AUXILIARY sys/{sys_password}@{stby_name} << EOF\n",
    "DUPLICATE TARGET DATABASE\n",
    "  FOR STANDBY\n",
    "  FROM ACTIVE DATABASE\n",
    "  DORECOVER\n",
    "  SPFILE\n",
    "    SET db_unique_name='{stby_name}' COMMENT 'Is standby'\n",
    "  NOFILENAMECHECK;\n",
    "EOF\n",
    "'''\n",
    "\n",
    "create_and_run_script(contents, '/tmp/duplicate.sh', '/tmp/duplicate.sh', \"/bin/bash /tmp/duplicate.sh\", sb_container)"
   ]
  },
  {
   "cell_type": "markdown",
   "metadata": {},
   "source": [
    "### Start the Data Guard Broker\n",
    "It's best practice to use Data Guard Broker and so we'll need to start it on both instances and then create a configuration."
   ]
  },
  {
   "cell_type": "code",
   "execution_count": null,
   "metadata": {},
   "outputs": [],
   "source": [
    "cursor.execute(\"ALTER SYSTEM SET dg_broker_start=true\")\n",
    "\n",
    "sb_connection = cx_Oracle.connect(\"sys\",sys_password,f\"//localhost:1522/{stby_name}\", mode=cx_Oracle.SYSDBA)\n",
    "sb_cursor = sb_connection.cursor()\n",
    "sb_cursor.execute(\"ALTER SYSTEM SET dg_broker_start=true\")\n"
   ]
  },
  {
   "cell_type": "markdown",
   "metadata": {},
   "source": [
    "Create a configuration"
   ]
  },
  {
   "cell_type": "code",
   "execution_count": null,
   "metadata": {},
   "outputs": [],
   "source": [
    "contents = f'''export TNS_ADMIN={t_admin};\n",
    "dgmgrl sys/{sys_password}@{db_name} << EOF\n",
    "SET ECHO ON;\n",
    "CREATE CONFIGURATION orcl_stby_config AS PRIMARY DATABASE IS {db_name} CONNECT IDENTIFIER IS {db_name};\n",
    "EXIT;\n",
    "EOF\n",
    "'''\n",
    "\n",
    "create_and_run_script(contents, '/tmp/dgconfig.sh', '/tmp/dgconfig.sh', \"/bin/bash /tmp/dgconfig.sh\", p_container)\n",
    "\n"
   ]
  },
  {
   "cell_type": "markdown",
   "metadata": {},
   "source": [
    "Add the standby"
   ]
  },
  {
   "cell_type": "code",
   "execution_count": null,
   "metadata": {},
   "outputs": [],
   "source": [
    "contents = f'''export TNS_ADMIN={t_admin};\n",
    "dgmgrl sys/{sys_password}@{db_name} << EOF\n",
    "SET ECHO ON;\n",
    "ADD DATABASE {stby_name} AS CONNECT IDENTIFIER IS {stby_name} MAINTAINED AS PHYSICAL;\n",
    "EXIT;\n",
    "EOF\n",
    "'''\n",
    "\n",
    "create_and_run_script(contents, '/tmp/dgconfig2.sh', '/tmp/dgconfig2.sh', \"/bin/bash /tmp/dgconfig2.sh\", p_container)"
   ]
  },
  {
   "cell_type": "markdown",
   "metadata": {},
   "source": [
    "Enable the configuration"
   ]
  },
  {
   "cell_type": "code",
   "execution_count": null,
   "metadata": {},
   "outputs": [],
   "source": [
    "contents = f'''export TNS_ADMIN={t_admin};\n",
    "dgmgrl sys/{sys_password}@{db_name} << EOF\n",
    "SET ECHO ON;\n",
    "ENABLE CONFIGURATION;\n",
    "EXIT;\n",
    "EOF\n",
    "'''\n",
    "\n",
    "create_and_run_script(contents, '/tmp/dgconfig3.sh', '/tmp/dgconfig3.sh', \"/bin/bash /tmp/dgconfig3.sh\", p_container)"
   ]
  },
  {
   "cell_type": "markdown",
   "metadata": {},
   "source": [
    "Display the configuration"
   ]
  },
  {
   "cell_type": "code",
   "execution_count": null,
   "metadata": {},
   "outputs": [],
   "source": [
    "contents = f'''export TNS_ADMIN={t_admin};\n",
    "dgmgrl sys/{sys_password}@{db_name} << EOF\n",
    "SET ECHO ON;\n",
    "SHOW CONFIGURATION;\n",
    "SHOW DATABASE {db_name};\n",
    "SHOW DATABASE {stby_name};\n",
    "EOF\n",
    "'''\n",
    "\n",
    "create_and_run_script(contents, '/tmp/dgconfig4.sh', '/tmp/dgconfig4.sh', \"/bin/bash /tmp/dgconfig4.sh\", p_container)"
   ]
  },
  {
   "cell_type": "markdown",
   "metadata": {},
   "source": [
    "### Start the Standby in managed recovery\n",
    "We now need to start the standby so it begins applying redo to keep it consistent with the primary."
   ]
  },
  {
   "cell_type": "code",
   "execution_count": null,
   "metadata": {},
   "outputs": [],
   "source": [
    "contents='''sqlplus / as sysdba << EOF\n",
    "SET ECHO ON;\n",
    "SHUTDOWN IMMEDIATE;\n",
    "STARTUP MOUNT;\n",
    "ALTER DATABASE RECOVER MANAGED STANDBY DATABASE DISCONNECT FROM SESSION;\n",
    "EOF\n",
    "'''\n",
    "\n",
    "create_and_run_script(contents, '/tmp/convert_to_active.sh', '/tmp/convert_to_active.sh', \"/bin/bash /tmp/convert_to_active.sh\", sb_container)"
   ]
  },
  {
   "cell_type": "markdown",
   "metadata": {},
   "source": [
    "And finally open the PDB on both the primary and standby to enable us to begin testing"
   ]
  },
  {
   "cell_type": "code",
   "execution_count": null,
   "metadata": {},
   "outputs": [],
   "source": [
    "sb_connection = cx_Oracle.connect(\"sys\",sys_password,f\"//localhost:1522/{stby_name}\", mode=cx_Oracle.SYSDBA)\n",
    "sb_cursor = sb_connection.cursor()\n",
    "\n",
    "cursor.execute(\"ALTER PLUGGABLE DATABASE SOE OPEN\")\n",
    "cursor.execute(\"ALTER PLUGGABLE DATABASE SOE SAVE STATE\")\n",
    "sb_cursor.execute(\"ALTER PLUGGABLE DATABASE SOE OPEN\")\n"
   ]
  },
  {
   "cell_type": "markdown",
   "metadata": {},
   "source": [
    "## Additional Steps\n",
    "\n",
    "At this point you should have a physical standby database that is running in maximum performance mode. This might be enough for the testing you want to carry out but there's a number of possible changes that you might want to consider.\n",
    "\n",
    "* Change the physical standby database to an Active Standby\n",
    "* Convert the current mode (Maximum Performance) to Maximum Protection or Maximum Availability \n",
    "* Configure the Oracle Database 19c Active Data Guard feature, DML Redirect\n",
    "\n",
    "I'll cover these in the following sections but they \"icing on the cake\" rather than required."
   ]
  },
  {
   "cell_type": "markdown",
   "metadata": {},
   "source": [
    "### Active Data Guard\n",
    "This is a relatively trivial change. We just need to alter the standby database to open readonly and then start managed recovery as before"
   ]
  },
  {
   "cell_type": "code",
   "execution_count": null,
   "metadata": {},
   "outputs": [],
   "source": [
    "contents='''sqlplus / as sysdba << EOF\n",
    "SET ECHO ON;\n",
    "SHUTDOWN IMMEDIATE;\n",
    "STARTUP MOUNT;\n",
    "ALTER DATABASE OPEN READ ONLY;\n",
    "ALTER DATABASE RECOVER MANAGED STANDBY DATABASE DISCONNECT FROM SESSION;\n",
    "EOF\n",
    "'''\n",
    "\n",
    "create_and_run_script(contents, '/tmp/convert_to_active.sh', '/tmp/convert_to_active.sh', \"/bin/bash /tmp/convert_to_active.sh\", sb_container)"
   ]
  },
  {
   "cell_type": "markdown",
   "metadata": {},
   "source": [
    "### Maximum Performance to Maximum Availability\n",
    "For this change we'll use the Database Guard Broker command line tool to make the change"
   ]
  },
  {
   "cell_type": "code",
   "execution_count": null,
   "metadata": {},
   "outputs": [],
   "source": [
    "contents = f'''\n",
    "dgmgrl sys/{sys_password}@{db_name} << EOF\n",
    "SET ECHO ON;\n",
    "SHOW CONFIGURATION;\n",
    "edit database {stby_name} set property logxptmode=SYNC;\n",
    "edit configuration set protection mode as maxavailability;\n",
    "SHOW CONFIGURATION;\n",
    "EOF\n",
    "'''\n",
    "\n",
    "create_and_run_script(contents, '/tmp/max_avail.sh', '/tmp/max_avail.sh', \"/bin/bash /tmp/max_avail.sh\", p_container)"
   ]
  },
  {
   "cell_type": "markdown",
   "metadata": {},
   "source": [
    "### Maximum Performance to Maximum Protection\n",
    "As before we'll use the Database Guard Broker command line tool to make the change. "
   ]
  },
  {
   "cell_type": "code",
   "execution_count": null,
   "metadata": {},
   "outputs": [],
   "source": [
    "contents = f'''\n",
    "dgmgrl sys/{sys_password}@{db_name} << EOF\n",
    "SET ECHO ON;\n",
    "SHOW CONFIGURATION;\n",
    "edit database {stby_name} set property logxptmode=SYNC;\n",
    "edit configuration set protection mode as maxprotection;\n",
    "SHOW CONFIGURATION;\n",
    "EOF\n",
    "'''\n",
    "\n",
    "create_and_run_script(contents, '/tmp/max_prot.sh', '/tmp/max_prot.sh', \"/bin/bash /tmp/max_prot.sh\", p_container)"
   ]
  },
  {
   "cell_type": "markdown",
   "metadata": {},
   "source": [
    "### Back to Max Perfromance\n",
    "We'll use Database Guard Broker to change us back to asynchronus mode."
   ]
  },
  {
   "cell_type": "code",
   "execution_count": null,
   "metadata": {},
   "outputs": [],
   "source": [
    "contents = f'''\n",
    "dgmgrl sys/{sys_password}@{db_name} << EOF\n",
    "SET ECHO ON;\n",
    "SHOW CONFIGURATION;\n",
    "edit configuration set protection mode as maxperformance;\n",
    "edit database {stby_name} set property logxptmode=ASYNC;\n",
    "SHOW CONFIGURATION;\n",
    "EOF\n",
    "'''\n",
    "\n",
    "create_and_run_script(contents, '/tmp/max_prot.sh', '/tmp/max_prot.sh', \"/bin/bash /tmp/max_prot.sh\", p_container)"
   ]
  },
  {
   "cell_type": "markdown",
   "metadata": {},
   "source": [
    "### Oracle Database 19c Acvtive Data Guard DML Redirect"
   ]
  },
  {
   "cell_type": "code",
   "execution_count": null,
   "metadata": {},
   "outputs": [],
   "source": []
  }
 ],
 "metadata": {
  "kernelspec": {
   "display_name": "Python 3",
   "language": "python",
   "name": "python3"
  },
  "language_info": {
   "codemirror_mode": {
    "name": "ipython",
    "version": 3
   },
   "file_extension": ".py",
   "mimetype": "text/x-python",
   "name": "python",
   "nbconvert_exporter": "python",
   "pygments_lexer": "ipython3",
   "version": "3.6.4"
  }
 },
 "nbformat": 4,
 "nbformat_minor": 2
}
